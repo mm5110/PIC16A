{
 "cells": [
  {
   "cell_type": "code",
   "execution_count": 4,
   "metadata": {
    "collapsed": true
   },
   "outputs": [],
   "source": [
    "def display_square():\n",
    "    print(u'\\u250c'u'\\u2500'u'\\u2500'u'\\u2500'u'\\u2500')\n",
    "    \n",
    "    print(u'\\u251c'u'\\u2500'u'\\u2500'u'\\u2500'u'\\u2500')\n",
    "\n",
    "\n",
    "def display_board():\n",
    "    print('|'+ '----')\n",
    "    print('|')\n",
    "    print('|')"
   ]
  },
  {
   "cell_type": "code",
   "execution_count": 14,
   "metadata": {},
   "outputs": [
    {
     "name": "stdout",
     "output_type": "stream",
     "text": [
      "┌────\n",
      "├────\n"
     ]
    }
   ],
   "source": [
    "print(u'\\u250c'u'\\u2500'u'\\u2500'u'\\u2500'u'\\u2500')\n",
    "print(u'\\u251c'u'\\u2500'u'\\u2500'u'\\u2500'u'\\u2500')"
   ]
  },
  {
   "cell_type": "code",
   "execution_count": 28,
   "metadata": {},
   "outputs": [
    {
     "name": "stdout",
     "output_type": "stream",
     "text": [
      "\n",
      " ─ ─ ─\n",
      " x|x|o\n",
      " ─ ─ ─\n",
      " o|o|x\n",
      " -----\n",
      " o|x|o\n",
      " \n"
     ]
    }
   ],
   "source": [
    "l = ['x','x','o','o','o','x','o','x','o']\n",
    "print(\"\"\"\n",
    " \\u2500 \\u2500 \\u2500\n",
    " {}|{}|{}\n",
    " \\u2500 \\u2500 \\u2500\n",
    " {}|{}|{}\n",
    " -----\n",
    " {}|{}|{}\n",
    " \"\"\".format('x','x','o','o','o','x','o','x','o'))"
   ]
  },
  {
   "cell_type": "code",
   "execution_count": 42,
   "metadata": {},
   "outputs": [
    {
     "name": "stdout",
     "output_type": "stream",
     "text": [
      "  |   |   | \n",
      "  |   |   | \n",
      "  |   |   | \n"
     ]
    }
   ],
   "source": [
    "board= {}\n",
    "\n",
    "for x in range(1, 10): # 1 - 100\n",
    "#     print (\"%03d\" % (101 - x,), end = \" | \") # make all numbers 3 digits\n",
    "    print(' ', end = \" | \")\n",
    "    if x % 3 == 0: # every ten line output a new line\n",
    "        print()"
   ]
  },
  {
   "cell_type": "code",
   "execution_count": 55,
   "metadata": {},
   "outputs": [
    {
     "name": "stderr",
     "output_type": "stream",
     "text": [
      "ERROR:root:An unexpected error occurred while tokenizing input\n",
      "The following traceback may be corrupted or invalid\n",
      "The error message is: ('EOF in multi-line string', (1, 4))\n",
      "\n"
     ]
    },
    {
     "ename": "IndexError",
     "evalue": "tuple index out of range",
     "output_type": "error",
     "traceback": [
      "\u001b[0;31m---------------------------------------------------------------------------\u001b[0m",
      "\u001b[0;31mIndexError\u001b[0m                                Traceback (most recent call last)",
      "\u001b[0;32m<ipython-input-55-b4bcdccd5d8b>\u001b[0m in \u001b[0;36m<module>\u001b[0;34m()\u001b[0m\n\u001b[1;32m     14\u001b[0m     \u001b[0;31m\\\u001b[0m\u001b[0mu2500\u001b[0m\u001b[0;31m \u001b[0m\u001b[0;31m\\\u001b[0m\u001b[0mu2500\u001b[0m\u001b[0;31m \u001b[0m\u001b[0;31m\\\u001b[0m\u001b[0mu2500\u001b[0m\u001b[0;34m\u001b[0m\u001b[0m\n\u001b[1;32m     15\u001b[0m     \u001b[0;34m{\u001b[0m\u001b[0;34m}\u001b[0m\u001b[0;34m|\u001b[0m\u001b[0;34m{\u001b[0m\u001b[0;34m}\u001b[0m\u001b[0;34m|\u001b[0m\u001b[0;34m{\u001b[0m\u001b[0;34m}\u001b[0m\u001b[0;34m\u001b[0m\u001b[0m\n\u001b[0;32m---> 16\u001b[0;31m     \"\"\".format(('', 'x', '')))\n\u001b[0m",
      "\u001b[0;31mIndexError\u001b[0m: tuple index out of range"
     ]
    }
   ],
   "source": [
    "# board_position = [[' ','x',' '], [' ',' ',' '], [' ',' ',' ']]\n",
    "# board_position_tup = tuple(board_position)\n",
    "# print(board_position_tup[0])\n",
    "\n",
    "# for x in range(1, 10): # 1 - 100\n",
    "# #     print (\"%03d\" % (101 - x,), end = \" | \") # make all numbers 3 digits\n",
    "#     print(' ', end = \" | \")\n",
    "#     if x % 3 == 0: # every ten line output a new line\n",
    "#         print()\n",
    "        \n",
    "for i in range(3):\n",
    "    print(\n",
    "    \"\"\"\n",
    "    \\u2500 \\u2500 \\u2500\n",
    "    {}|{}|{}\n",
    "    \"\"\".format(('', 'x', '')))"
   ]
  },
  {
   "cell_type": "code",
   "execution_count": null,
   "metadata": {
    "collapsed": true
   },
   "outputs": [],
   "source": [
    "class game():\n",
    "    over = False\n",
    "    winner = none\n",
    "    move_number = 1\n",
    "    position\n",
    "    "
   ]
  }
 ],
 "metadata": {
  "kernelspec": {
   "display_name": "Python [conda env:pytorch-env]",
   "language": "python",
   "name": "conda-env-pytorch-env-py"
  },
  "language_info": {
   "codemirror_mode": {
    "name": "ipython",
    "version": 3
   },
   "file_extension": ".py",
   "mimetype": "text/x-python",
   "name": "python",
   "nbconvert_exporter": "python",
   "pygments_lexer": "ipython3",
   "version": "3.6.2"
  }
 },
 "nbformat": 4,
 "nbformat_minor": 2
}
