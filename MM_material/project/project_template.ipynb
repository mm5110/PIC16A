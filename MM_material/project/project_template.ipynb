{
 "cells": [
  {
   "cell_type": "markdown",
   "metadata": {},
   "source": [
    "This is a template for your [group mini-project](https://philchodrow.github.io/PIC16A/project/). You are free not to use this template, as long as you have clearly labeled sections corresponding to those in the project description. \n",
    "\n",
    "# Group Project\n",
    "\n",
    "*By Student 1, Student 2, and Student 3*\n",
    "\n",
    "## Group Contributions Statement\n",
    "\n",
    "Students 1 and 3 worked on...Student 2 led the creation of...All three students contributed to the following items equally..."
   ]
  },
  {
   "cell_type": "markdown",
   "metadata": {},
   "source": [
    "# Data Acquisition\n",
    "\n",
    "In this section, you should acquire your data and read it into Python"
   ]
  },
  {
   "cell_type": "code",
   "execution_count": null,
   "metadata": {},
   "outputs": [],
   "source": [
    "# your code here\n",
    "# you are encouraged to add more cells -- don't let your code chunks get too big\n",
    "# you should also add additional markdown cells when describing your strategy\n",
    "# and discussing your results\n"
   ]
  },
  {
   "cell_type": "markdown",
   "metadata": {},
   "source": [
    "# Exploratory Analysis\n",
    "\n",
    "In this section, you should explore your data using summary tables and plots. You should clearly **explain the importance** of each table or plot that you produce, and make clear how it informs your modeling decisions in the modeling section.\n",
    "\n",
    "In this section, you may choose to include a subsection on *Data Preparation*. If so, make sure to clearly explain your steps there as well. You are required to split your data into a training and test set; you might choose to do that in this section. "
   ]
  },
  {
   "cell_type": "code",
   "execution_count": null,
   "metadata": {},
   "outputs": [],
   "source": [
    "# your code here\n",
    "# you are encouraged to add more cells -- don't let your code chunks get too big\n",
    "# you should also add additional markdown cells when describing your strategy\n",
    "# and discussing your results\n"
   ]
  },
  {
   "cell_type": "markdown",
   "metadata": {},
   "source": [
    "# Modeling\n",
    "\n",
    "In this section, you should build several machine learning models (one per student in your group). For each model, you should demonstrate the use of cross-validation to obtain optimal model complexity parameters. Your aim is to present a model with high prediction accuracy (on unseen test data) that uses *a minimal number of columns from the original data set*. "
   ]
  },
  {
   "cell_type": "code",
   "execution_count": null,
   "metadata": {},
   "outputs": [],
   "source": [
    "# your code here\n",
    "# you are encouraged to add more cells -- don't let your code chunks get too big\n",
    "# you should also add additional markdown cells when describing your strategy\n",
    "# and discussing your results\n"
   ]
  },
  {
   "cell_type": "markdown",
   "metadata": {},
   "source": [
    "# Discussion\n",
    "\n",
    "Reflect on your findings, as outlined in the [project description](https://philchodrow.github.io/PIC16A/project/)."
   ]
  },
  {
   "cell_type": "markdown",
   "metadata": {},
   "source": [
    "*Discuss here*. "
   ]
  }
 ],
 "metadata": {
  "kernelspec": {
   "display_name": "Python 3",
   "language": "python",
   "name": "python3"
  },
  "language_info": {
   "codemirror_mode": {
    "name": "ipython",
    "version": 3
   },
   "file_extension": ".py",
   "mimetype": "text/x-python",
   "name": "python",
   "nbconvert_exporter": "python",
   "pygments_lexer": "ipython3",
   "version": "3.8.3"
  }
 },
 "nbformat": 4,
 "nbformat_minor": 4
}
