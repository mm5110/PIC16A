{
 "cells": [
  {
   "cell_type": "code",
   "execution_count": null,
   "metadata": {
    "collapsed": true,
    "slideshow": {
     "slide_type": "skip"
    }
   },
   "outputs": [],
   "source": [
    "from IPython.display import Image"
   ]
  },
  {
   "cell_type": "markdown",
   "metadata": {
    "slideshow": {
     "slide_type": "slide"
    }
   },
   "source": [
    "# Welcome to PIC16A!\n",
    "## Python with applications\n",
    "*Instructor: Michael Murray <br>*\n",
    "*Teaching Assistant: TBC <br>*"
   ]
  },
  {
   "cell_type": "markdown",
   "metadata": {},
   "source": [
    "## Reminder of official prerequisites\n",
    "Enforced requisite: PIC10A, Computer Science 31, or equivalent, with grades of C- or better"
   ]
  },
  {
   "cell_type": "markdown",
   "metadata": {
    "slideshow": {
     "slide_type": "slide"
    }
   },
   "source": [
    "## What we will cover today\n",
    "1. Why python?\n",
    "2. Course goals and objectives\n",
    "4. Overview of the syllabus\n",
    "3. Who is this course for?\n",
    "5. Course format\n",
    "6. Administration, IT requirements and grading"
   ]
  },
  {
   "cell_type": "markdown",
   "metadata": {
    "slideshow": {
     "slide_type": "slide"
    }
   },
   "source": [
    "## Why Python? I'll give two key reasons..."
   ]
  },
  {
   "cell_type": "markdown",
   "metadata": {
    "slideshow": {
     "slide_type": "slide"
    }
   },
   "source": [
    "### 1) Its a nice language to work with!\n",
    "- concise, expressive and human readable (closer to writing out instructions for a human)\n",
    "- details concerning hardware abstracted away\n",
    "- very extensive libraries\n",
    "- highly versatile across environments and applications"
   ]
  },
  {
   "cell_type": "code",
   "execution_count": null,
   "metadata": {
    "slideshow": {
     "slide_type": "subslide"
    }
   },
   "outputs": [],
   "source": [
    "# In C++\n",
    "using namespace std;\n",
    "int main() {\n",
    "string name;\n",
    "cin >> name;\n",
    "cout << \"Good evening, \" << name << endl;\n",
    "return 0;\n",
    "}"
   ]
  },
  {
   "cell_type": "code",
   "execution_count": null,
   "metadata": {
    "slideshow": {
     "slide_type": "subslide"
    }
   },
   "outputs": [],
   "source": [
    "# In python\n",
    "name = input()\n",
    "print(\"Good evening, \" + name)"
   ]
  },
  {
   "cell_type": "markdown",
   "metadata": {
    "slideshow": {
     "slide_type": "slide"
    }
   },
   "source": [
    "### What do the following products have in common?\n",
    "- Dropbox\n",
    "- Instagram\n",
    "- Netflix\n",
    "- Spotify\n",
    "- Google Search\n",
    "- Youtube\n",
    "- Facebook\n",
    "- ..."
   ]
  },
  {
   "cell_type": "markdown",
   "metadata": {
    "slideshow": {
     "slide_type": "slide"
    }
   },
   "source": [
    "### 2) Python is in demand!\n",
    "- one of the most popular programming langauges around\n",
    "- rich and vibrant community using and developing the langauage\n",
    "- widely used in academia and industry\n",
    "- arguably the defacto choice for machine learning and data science"
   ]
  },
  {
   "cell_type": "markdown",
   "metadata": {
    "slideshow": {
     "slide_type": "slide"
    }
   },
   "source": [
    "## Overview of course"
   ]
  },
  {
   "cell_type": "markdown",
   "metadata": {
    "slideshow": {
     "slide_type": "slide"
    }
   },
   "source": [
    "### Objectives\n",
    "1. Build a practical working knowledge of python and its syntax\n",
    "2. Build proficiency in writing concise, efficient and robust python code\n",
    "2. Use python to solve a variety of data science problems\n",
    "3. Reinforce and continue to develop general programming principles\n",
    "4. Have fun!"
   ]
  },
  {
   "cell_type": "markdown",
   "metadata": {
    "slideshow": {
     "slide_type": "slide"
    }
   },
   "source": [
    "### Overview of syllabus\n",
    "The first half of this course covers Python fundamentals,\n",
    "    - data types,\n",
    "    - containers,\n",
    "    - control-flow,\n",
    "    - functions\n",
    "    - object orientated programming, classes and inheritance\n",
    "\n",
    "The second half of this course surveys a wide array of useful packages in the Python ecosystem, with a particular emphasis on data science.\n",
    "    - mathematical computing with numpy\n",
    "    - data arrays and vectorization with pandas\n",
    "    - data visualisation with matplotlib\n",
    "    - machine learning with scikitlearn and pytorch\n",
    "    \n",
    "Some examples of projects that you'll work on\n",
    "    - Classify images of handwritten digits\n",
    "    - Model bike share usage\n",
    "    - Automatically summarise texts like Alice in Wonderland \n",
    "    - Predict the species of a penguin"
   ]
  },
  {
   "cell_type": "markdown",
   "metadata": {
    "slideshow": {
     "slide_type": "slide"
    }
   },
   "source": [
    "### Remark on course philosophy and format\n",
    "This course is based on Phil Chodrow's PIC16A (https://www.philchodrow.com/PIC16A/) and has a flipped format. Emphasis is on\n",
    "- active learning,\n",
    "- group work and collaboration,\n",
    "- flexibility.\n",
    "\n",
    "What I expect from you:\n",
    "- effort and engagement with material and sessions,\n",
    "- academic integrity,\n",
    "- to contribute towards creating an inclusive, collaborative and encouraging learning environment.\n",
    "\n",
    "I actively do not want students to work crazy hours late into the night and feel highly stressed about assignments. The way this course is designed this absolutely should not be necessary."
   ]
  },
  {
   "cell_type": "markdown",
   "metadata": {
    "slideshow": {
     "slide_type": "slide"
    }
   },
   "source": [
    "### What course activities in an average week might look like\n",
    "- Three content sessions a week (M,W,F in location TBC), each consisting of\n",
    "    - notes and videos to self-study in advance (**expected**)\n",
    "    - **in-person** 50min lecture to review material (**recommended**)\n",
    "    - there is a quiz associated with each lecture to check understanding (**expected**)\n",
    "\n",
    "\n",
    "- Two 50min **in-person** discussion sessions: group work writing code to solve problem(s) (**expected**)\n",
    "\n",
    "- Homework assignment, eight throughout quarter (**expected**)\n",
    "\n",
    "- Group project work towards end of quarter (**expected**)\n",
    "\n",
    "Estimate of total weekly commitment: 5-9 hours"
   ]
  },
  {
   "cell_type": "markdown",
   "metadata": {},
   "source": [
    "### Course IT\n",
    "We will be using Jupyter notebooks as our coding environment:\n",
    "    - an open source, browser based interactive computational environment \n",
    "    - combines code and sections of markdown merging the lines between writing code and writing a report\n",
    "    - supports many languages\n",
    "    - more sophisticated tools available through JupyterLabs\n",
    "    - excellent for data analysis, data visualization and interactive, exploratory computing\n",
    "    \n",
    "Installation:\n",
    "1. Install Anaconda: https://docs.anaconda.com/anaconda/install/index.html\n",
    "2. Install jupyternotebooks via coda: https://jupyterlab.readthedocs.io/en/stable/getting_started/installation.html\n",
    "    "
   ]
  },
  {
   "cell_type": "markdown",
   "metadata": {
    "slideshow": {
     "slide_type": "slide"
    }
   },
   "source": [
    "### Assessment and grading\n",
    "Grading is not based on rank or distribution, you are not competing with one another. \n",
    "\n",
    "Graded assignments where you are actively encouraged to collaborate with your peers are:\n",
    "- Participation in discussion sessions **(20%, 4 drops)**\n",
    "- Project **(10%)**\n",
    "\n",
    "Graded assignment where you may support and recieve support (but not copy!) from your peers:\n",
    "- 8 homework assignments **(30%, 2 drops)**\n",
    "\n",
    "Graded assignments where sharing solutions and general collaboration is **not allowed** and would violate UCLA's student code of conduct:\n",
    "- Multiple-choice quizzes (one per lecture) **(10%)**\n",
    "- Mid-term exam **(10%)**\n",
    "- End-of term exam **(20%)**"
   ]
  },
  {
   "cell_type": "markdown",
   "metadata": {
    "slideshow": {
     "slide_type": "slide"
    }
   },
   "source": [
    "### Support and help\n",
    "There are a number of options for getting advice, help and support if stuck on a problem:\n",
    "- first try and think just a little longer about it...\n",
    "- try the internet\n",
    "- ask your peers for advice and help (but do not simply copy them!)\n",
    "- ask a question in class or during a discussion session\n",
    "- office hours (TBC)\n",
    "- email me or TA (TBC)\n"
   ]
  },
  {
   "cell_type": "markdown",
   "metadata": {
    "slideshow": {
     "slide_type": "slide"
    }
   },
   "source": [
    "### Reading to do\n",
    "Covered in Tuesday's discussion session!\n",
    "- Installing Anaconda: https://docs.anaconda.com/anaconda/install/index.html\n",
    "- Installing Jupyter Notebooks: https://jupyterlab.readthedocs.io/en/stable/getting_started/installation.html\n",
    "- Using Jupyter Notebooks\n",
    "\n",
    "For Wednesday:\n",
    "- Submitting assignments\n",
    "- Guide on group working"
   ]
  },
  {
   "cell_type": "markdown",
   "metadata": {
    "slideshow": {
     "slide_type": "slide"
    }
   },
   "source": [
    "### Any questions?"
   ]
  },
  {
   "cell_type": "code",
   "execution_count": null,
   "metadata": {
    "collapsed": true
   },
   "outputs": [],
   "source": []
  }
 ],
 "metadata": {
  "celltoolbar": "Slideshow",
  "kernelspec": {
   "display_name": "Python [conda env:pytorch-env]",
   "language": "python",
   "name": "conda-env-pytorch-env-py"
  },
  "language_info": {
   "codemirror_mode": {
    "name": "ipython",
    "version": 3
   },
   "file_extension": ".py",
   "mimetype": "text/x-python",
   "name": "python",
   "nbconvert_exporter": "python",
   "pygments_lexer": "ipython3",
   "version": "3.6.2"
  }
 },
 "nbformat": 4,
 "nbformat_minor": 2
}
