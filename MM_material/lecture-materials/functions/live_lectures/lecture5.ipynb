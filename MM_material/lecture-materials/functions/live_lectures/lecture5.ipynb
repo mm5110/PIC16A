{
 "cells": [
  {
   "cell_type": "markdown",
   "metadata": {},
   "source": [
    "# Lecture 5: functions and namespaces\n",
    "In this lecture we will review the material covered in the tutorials on the basics of functions in python as well as namespaces. Before we start a quick quiz (true or false) to cover the basic principles!\n",
    "    - whether a function argument is positional or keyword depends on how you define the function\n",
    "    - its always better to use positional arguments\n",
    "    - keyword arguments often improve readability\n",
    "    - a function cannot change the value of a global variable\n",
    "    - multiple values can be returned from a function\n",
    "    - if a name cannot be found in the local namespace then an error will be thrown\n",
    "    - its nearly always better to pass data into a function via arguments instead of global variables"
   ]
  },
  {
   "cell_type": "markdown",
   "metadata": {},
   "source": [
    "## Are there any areas you want to review in particular?"
   ]
  },
  {
   "cell_type": "code",
   "execution_count": null,
   "metadata": {
    "collapsed": true
   },
   "outputs": [],
   "source": []
  },
  {
   "cell_type": "markdown",
   "metadata": {},
   "source": [
    "## Practise writing functions for the following\n",
    "Recall how to declare a function\n",
    "```\n",
    "def <function name>:\n",
    "    <function body>\n",
    "```"
   ]
  },
  {
   "cell_type": "code",
   "execution_count": null,
   "metadata": {
    "collapsed": true
   },
   "outputs": [],
   "source": [
    "# Write a function which, given a list of objects, returns a dictionary of the unique objects\n",
    "# and their respective frequencies in the list"
   ]
  },
  {
   "cell_type": "code",
   "execution_count": null,
   "metadata": {
    "collapsed": true
   },
   "outputs": [],
   "source": [
    "# Write functions to perform vector arithmetic (vector addition, scalar multiplication, inner product)"
   ]
  },
  {
   "cell_type": "code",
   "execution_count": null,
   "metadata": {
    "collapsed": true
   },
   "outputs": [],
   "source": [
    "# Write a functions to compute the angle between two vectors represented as lists"
   ]
  },
  {
   "cell_type": "code",
   "execution_count": null,
   "metadata": {
    "collapsed": true
   },
   "outputs": [],
   "source": [
    "# Write a function to sort a numerical list in ascending order"
   ]
  },
  {
   "cell_type": "code",
   "execution_count": null,
   "metadata": {
    "collapsed": true
   },
   "outputs": [],
   "source": [
    "# Write a function to sort a list of strings in alphabetical order (wrt first character of each string)"
   ]
  },
  {
   "cell_type": "code",
   "execution_count": null,
   "metadata": {
    "collapsed": true
   },
   "outputs": [],
   "source": [
    "# Write a function which capitalizes the string keywords in a dictionary"
   ]
  }
 ],
 "metadata": {
  "kernelspec": {
   "display_name": "Python [conda env:pytorch-env]",
   "language": "python",
   "name": "conda-env-pytorch-env-py"
  },
  "language_info": {
   "codemirror_mode": {
    "name": "ipython",
    "version": 3
   },
   "file_extension": ".py",
   "mimetype": "text/x-python",
   "name": "python",
   "nbconvert_exporter": "python",
   "pygments_lexer": "ipython3",
   "version": "3.6.2"
  }
 },
 "nbformat": 4,
 "nbformat_minor": 2
}
