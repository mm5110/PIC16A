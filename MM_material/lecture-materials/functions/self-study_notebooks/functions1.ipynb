{
 "cells": [
  {
   "cell_type": "markdown",
   "metadata": {},
   "source": [
    "# Functions I: basics\n",
    "**Functions** are one of the most important constructs in computer programming. A function is a single command which, when executed, performs some operations and may return a value. Functions allow one to reuse, abstract and modularise pieces of code to perform a particular task: compared with manually copying and pasting sections of code this approach affords the following benefits.\n",
    "\n",
    "1) *Efficiency*: there is no point in duplicating work! To perform the a task its easier to call a function than copy and paste a section of code. Furthermore, you can import already implemented functions into new programs to again save time and effort.\n",
    "\n",
    "2) *Relibability*: using functions will make your code more readable (so long as you choose sensible function names!) and the program logic clearer. This naturally speeds up development time and makes mistakes less likely and easier to fix. In addition, compared with repeatedly copying and pasting sections of code, it is much easier to update and manage your code in a consistent and robust fashion using functions.\n",
    "\n",
    "In short, functions speed up your code development and make your code easier to read, update, manage and debug. The purpose of this tutorial is to provide an overview of the basics of functions in python: namely how to declare them, their arguments, variables with global vs local scope and returning values. "
   ]
  },
  {
   "cell_type": "markdown",
   "metadata": {},
   "source": [
    "## Declaring functions in python\n",
    "You've already encountered functions in PIC10A, where they may have looked something like this: \n",
    "\n",
    "```cpp\n",
    "\n",
    "// Filename: boldy.cpp\n",
    "\n",
    "#include <iostream>\n",
    "\n",
    "int main() {\n",
    "    std::cout << \"To boldly go\";\n",
    "    return 0;\n",
    "}\n",
    "```\n",
    "\n",
    "You'll notice the *type declaration* (`int`), the function name (`main`), the parameter declaration (`()`, i.e. no parameters in this case), and the *return value* (`0`). Python functions have a similar syntax. Instead of a type declaration, one uses the `def` keyword to denote a function definition. One does not use `{}` braces, but one does use a `:` colon to initiate the body of the function and whitespace to indent the body. \n",
    "\n",
    "Since Python is interpreted rather than compiled, functions are ready to use as soon as they are defined. "
   ]
  },
  {
   "cell_type": "code",
   "execution_count": null,
   "metadata": {
    "collapsed": true
   },
   "outputs": [],
   "source": [
    "def boldly_print():       # colon ends declaration and begins definition\n",
    "    print(\"To boldly go\") \n",
    "    # return values are optional\n",
    "    \n",
    "boldly_print()\n",
    "# ---"
   ]
  },
  {
   "cell_type": "markdown",
   "metadata": {},
   "source": [
    "## Arguments (parameters) of a function\n",
    "\n",
    "Just as in C++, in Python we can pass *arguments* (or *parameters*) to functions in order to modify their behavior. "
   ]
  },
  {
   "cell_type": "code",
   "execution_count": null,
   "metadata": {
    "collapsed": true
   },
   "outputs": [],
   "source": [
    "def boldly_print_2(k):       \n",
    "    for i in range(k):\n",
    "        print(\"To boldly go\") \n",
    "\n",
    "boldly_print_2(3)    \n",
    "# ---"
   ]
  },
  {
   "cell_type": "markdown",
   "metadata": {},
   "source": [
    "These arguments can be given *default* values, so that it is not necessary to specify each argument in each function call. "
   ]
  },
  {
   "cell_type": "code",
   "execution_count": null,
   "metadata": {
    "collapsed": true
   },
   "outputs": [],
   "source": [
    "def boldly_print_3(k, verb=\"go\"): # here we give the verb argument the default go\n",
    "    for i in range(k):\n",
    "        print(\"To boldly \" + verb)\n",
    "        \n",
    "boldly_print_3(2)\n",
    "# ---"
   ]
  },
  {
   "cell_type": "markdown",
   "metadata": {},
   "source": [
    "Sometimes it is desirable to use *keyword arguments* when calling a function, so that your code clearly indicates which argument is being supplied which value: "
   ]
  },
  {
   "cell_type": "code",
   "execution_count": null,
   "metadata": {
    "collapsed": true
   },
   "outputs": [],
   "source": [
    "boldly_print_3(3, \"code\") # positional approach, inputs must be in the order the function is defined in\n",
    "# ---"
   ]
  },
  {
   "cell_type": "code",
   "execution_count": null,
   "metadata": {
    "collapsed": true
   },
   "outputs": [],
   "source": [
    "boldly_print_3(k=3, verb=\"code\") # same as above, but using keywords\n",
    "# ---"
   ]
  },
  {
   "cell_type": "markdown",
   "metadata": {},
   "source": [
    "If you use positional arguments when calling a function then the order in which the arguments are provided is very important! However, if all arguments are supplied as keyword arguments then the order of the arguments does not matter!"
   ]
  },
  {
   "cell_type": "code",
   "execution_count": null,
   "metadata": {
    "collapsed": true
   },
   "outputs": [],
   "source": [
    "boldly_print_3(verb=\"code\", k=3) "
   ]
  },
  {
   "cell_type": "markdown",
   "metadata": {},
   "source": [
    "If one uses a mix of positional and keyword arguments, then keyword arguments must be supplied after all positional arguments: "
   ]
  },
  {
   "cell_type": "code",
   "execution_count": null,
   "metadata": {
    "collapsed": true
   },
   "outputs": [],
   "source": [
    "boldly_print_3(k = 3,\"sing\")\n",
    "# --- "
   ]
  },
  {
   "cell_type": "markdown",
   "metadata": {},
   "source": [
    "In general when choosing between calling a function using positional or keyword arguments try and choose the one that aids readability and clarity!"
   ]
  },
  {
   "cell_type": "markdown",
   "metadata": {},
   "source": [
    "## Scope\n",
    "\n",
    "The **global scope** is the set of all variables available for usage outside of any function. "
   ]
  },
  {
   "cell_type": "code",
   "execution_count": 4,
   "metadata": {},
   "outputs": [
    {
     "data": {
      "text/plain": [
       "3"
      ]
     },
     "execution_count": 4,
     "metadata": {},
     "output_type": "execute_result"
    }
   ],
   "source": [
    "x = 3 # available in global scope\n",
    "x"
   ]
  },
  {
   "cell_type": "markdown",
   "metadata": {},
   "source": [
    "Functions create a **local scope**. This means: \n",
    "\n",
    "- Variables in the global scope are available within the function. \n",
    "- Variables created within the function are **not** available within the global scope."
   ]
  },
  {
   "cell_type": "code",
   "execution_count": 5,
   "metadata": {},
   "outputs": [
    {
     "name": "stdout",
     "output_type": "stream",
     "text": [
      "5\n"
     ]
    }
   ],
   "source": [
    "# variables within the global scope are available within the function\n",
    "def add_2_to_x():  \n",
    "    print(x+2)\n",
    "\n",
    "add_2_to_x()\n",
    "# ---"
   ]
  },
  {
   "cell_type": "code",
   "execution_count": 6,
   "metadata": {},
   "outputs": [
    {
     "name": "stdout",
     "output_type": "stream",
     "text": [
      "2\n"
     ]
    },
    {
     "ename": "NameError",
     "evalue": "name 'y' is not defined",
     "output_type": "error",
     "traceback": [
      "\u001b[0;31m---------------------------------------------------------------------------\u001b[0m",
      "\u001b[0;31mNameError\u001b[0m                                 Traceback (most recent call last)",
      "\u001b[0;32m<ipython-input-6-9c604a9dc829>\u001b[0m in \u001b[0;36m<module>\u001b[0;34m()\u001b[0m\n\u001b[1;32m      4\u001b[0m     \u001b[0mprint\u001b[0m\u001b[0;34m(\u001b[0m\u001b[0my\u001b[0m\u001b[0;34m)\u001b[0m\u001b[0;34m\u001b[0m\u001b[0m\n\u001b[1;32m      5\u001b[0m \u001b[0mprint_y\u001b[0m\u001b[0;34m(\u001b[0m\u001b[0;34m)\u001b[0m\u001b[0;34m\u001b[0m\u001b[0m\n\u001b[0;32m----> 6\u001b[0;31m \u001b[0my\u001b[0m\u001b[0;34m\u001b[0m\u001b[0m\n\u001b[0m\u001b[1;32m      7\u001b[0m \u001b[0;31m# ---\u001b[0m\u001b[0;34m\u001b[0m\u001b[0;34m\u001b[0m\u001b[0m\n",
      "\u001b[0;31mNameError\u001b[0m: name 'y' is not defined"
     ]
    }
   ],
   "source": [
    "# Local or function variables cannot be accessed outside of the function!\n",
    "def print_y():\n",
    "    y = 2\n",
    "    print(y)\n",
    "print_y()\n",
    "y\n",
    "# ---"
   ]
  },
  {
   "cell_type": "markdown",
   "metadata": {},
   "source": [
    "Immutable variables in the global scope cannot be modified by functions, even if you use the same variable name. "
   ]
  },
  {
   "cell_type": "code",
   "execution_count": 7,
   "metadata": {},
   "outputs": [
    {
     "name": "stdout",
     "output_type": "stream",
     "text": [
      "7\n",
      "3\n"
     ]
    }
   ],
   "source": [
    "# Try and change immutable global variable\n",
    "def new_x():\n",
    "    x = 7\n",
    "    print(x)\n",
    "\n",
    "new_x()\n",
    "print(x)\n",
    "# ---"
   ]
  },
  {
   "cell_type": "markdown",
   "metadata": {},
   "source": [
    "On the other hand, *mutable* variables in global scope can be modified by functions. **Such scenarios need to be handled with care**: in particular, if a mutable global variable is accessed and used by many different functions throughout runtime, then the behaviour of a variable can become hard to predict and the code therefore more likely to give an erroneuous output. We'll discuss the topic of namespaces and the use of global variables in detail in the next tutorial."
   ]
  },
  {
   "cell_type": "code",
   "execution_count": 9,
   "metadata": {},
   "outputs": [
    {
     "data": {
      "text/plain": [
       "['revaeB', 'tnA', 'effariG', 'nohtyP']"
      ]
     },
     "execution_count": 9,
     "metadata": {},
     "output_type": "execute_result"
    }
   ],
   "source": [
    "# this works, but it's typically not a good idea. \n",
    "animals = [\"Beaver\", \"Ant\", \"Giraffe\", \"Python\"]\n",
    "\n",
    "def reverse_names():\n",
    "    for i in range(4):\n",
    "        animals[i] = animals[i][::-1]\n",
    "\n",
    "reverse_names()\n",
    "animals"
   ]
  },
  {
   "cell_type": "markdown",
   "metadata": {},
   "source": [
    "## Return values\n",
    "\n",
    "So far, we've seen examples of functions that print but do not *return* anything. Usually, you will want your function to have one or more return values. These allow the output of a function to be used in future computations. "
   ]
  },
  {
   "cell_type": "code",
   "execution_count": 8,
   "metadata": {},
   "outputs": [
    {
     "name": "stdout",
     "output_type": "stream",
     "text": [
      "['to boldly dance', 'to boldly dance']\n"
     ]
    }
   ],
   "source": [
    "def boldly_return(k = 1, verb = \"go\"):\n",
    "    return([\"to boldly \" + verb for i in range(k)])\n",
    "\n",
    "x = boldly_return(k = 2, verb = \"dance\")\n",
    "print(x)"
   ]
  },
  {
   "cell_type": "markdown",
   "metadata": {},
   "source": [
    "Your function can return multiple values:"
   ]
  },
  {
   "cell_type": "code",
   "execution_count": null,
   "metadata": {
    "collapsed": true
   },
   "outputs": [],
   "source": [
    "def double_your_number(j):\n",
    "    return(j, 2*j)\n",
    "\n",
    "x, y = double_your_number(10)\n",
    "print(x,y)"
   ]
  },
  {
   "cell_type": "markdown",
   "metadata": {},
   "source": [
    "The `return` statement *immediately* terminates the function's local scope, usually returning to global scope. So, for example, a `return` statement can be used to terminate a `while` loop, similar to a `break` statement. "
   ]
  },
  {
   "cell_type": "code",
   "execution_count": null,
   "metadata": {
    "collapsed": true
   },
   "outputs": [],
   "source": [
    "def largest_power_below(a, upper_bound):\n",
    "    i = 1\n",
    "    while True: # while loop will loop until return statement is reached\n",
    "        i *= a\n",
    "        if a*i >= upper_bound:\n",
    "            return(i)\n",
    "        \n",
    "largest_power_below(3, 10000)"
   ]
  }
 ],
 "metadata": {
  "kernelspec": {
   "display_name": "Python [default]",
   "language": "python",
   "name": "python3"
  },
  "language_info": {
   "codemirror_mode": {
    "name": "ipython",
    "version": 3
   },
   "file_extension": ".py",
   "mimetype": "text/x-python",
   "name": "python",
   "nbconvert_exporter": "python",
   "pygments_lexer": "ipython3",
   "version": "3.6.2"
  }
 },
 "nbformat": 4,
 "nbformat_minor": 4
}
