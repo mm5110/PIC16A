{
 "cells": [
  {
   "cell_type": "markdown",
   "metadata": {},
   "source": [
    "# Functions III: more on function arguments"
   ]
  },
  {
   "cell_type": "markdown",
   "metadata": {},
   "source": [
    "## Handling mutable function arguments\n",
    "Let us now explore the local namespaces of functions which have input arguments."
   ]
  },
  {
   "cell_type": "code",
   "execution_count": null,
   "metadata": {
    "collapsed": true
   },
   "outputs": [],
   "source": [
    "x = 3\n",
    "y = 6\n",
    "\n",
    "def g(arg1,arg2):\n",
    "    print(arg1 is x, arg2 is y)\n",
    "    print(locals())\n",
    "    return(arg1*arg2)"
   ]
  },
  {
   "cell_type": "markdown",
   "metadata": {},
   "source": [
    "As the above example shows, the arguments of a function are essentially local names bound to the memory locations which the respective variables in the main program are bound to. This observation is important to keep in mind, particularly in the context of providing functions with mutable objects. Consider the following function, designed to return the result of entrywise doubling and then summing a list:"
   ]
  },
  {
   "cell_type": "code",
   "execution_count": null,
   "metadata": {
    "collapsed": true
   },
   "outputs": [],
   "source": [
    "x = [1,2,3]\n",
    "\n",
    "def double_and_sum(arg):\n",
    "    for i in range(len(arg)):\n",
    "        arg[i] = 2*arg[i]\n",
    "    return(sum(arg))\n",
    "\n",
    "double_and_sum(x), x"
   ]
  },
  {
   "cell_type": "markdown",
   "metadata": {},
   "source": [
    "As this example highlights, an unintended outcome of calling `double_and_sum` is that the global variable `x`  has also been changed. The reasons for this are the same as given in Tutorial 2: line 5 in the above is a mutation which changes the data at the memory location which both the global variable `x` and the local variable `arg` are bound to. Once one is aware of this risk then often it is not hard to avoid, as the following alternative implementations demonstrate."
   ]
  },
  {
   "cell_type": "code",
   "execution_count": null,
   "metadata": {
    "collapsed": true
   },
   "outputs": [],
   "source": [
    "# The expensive but safe way, copy the list first then run the same code\n",
    "def copy_double_and_sum(arg):\n",
    "    new_list = arg.copy() # copy the list and process that instead, expensive computationally!\n",
    "    for i in range(len(new_list)):\n",
    "        new_list[i] = 2*new_list[i]\n",
    "    return(sum(new_list))\n",
    "\n",
    "# A simpler way...\n",
    "def double_and_sum_simple(arg):\n",
    "    return sum(2*arg) # achieve the same result without performing a mutation"
   ]
  },
  {
   "cell_type": "code",
   "execution_count": null,
   "metadata": {
    "collapsed": true
   },
   "outputs": [],
   "source": [
    "x = [1,2,3]\n",
    "print(copy_double_and_sum(x), x)\n",
    "print(double_and_sum_simple(x), x)"
   ]
  },
  {
   "cell_type": "markdown",
   "metadata": {},
   "source": [
    "Functions which do not change the value of any input variables, or variables outside of their scope, are typically easier to test and safer to use and combine. For these reasons, if you can, its best to implement functions in this way. For example, suppose we want to regularly update lists by appending their average value."
   ]
  },
  {
   "cell_type": "code",
   "execution_count": null,
   "metadata": {
    "collapsed": true
   },
   "outputs": [],
   "source": [
    "# First approach, which is potentially more error prone if your code gets long and complicated\n",
    "x = [2,2,3,4,5]\n",
    "\n",
    "def append_average(list_arg):\n",
    "    list_arg.append(sum(list_arg)/len(list_arg))\n",
    "    \n",
    "append_average(x)\n",
    "x"
   ]
  },
  {
   "cell_type": "code",
   "execution_count": null,
   "metadata": {
    "collapsed": true
   },
   "outputs": [],
   "source": [
    "# An approach which is arguably safer...\n",
    "x = [2,2,3,4,5]\n",
    "\n",
    "def list_average(list_arg):\n",
    "    return sum(list_arg)/len(list_arg)\n",
    "\n",
    "x.append(list_average(x)) # mutation happens back in the main program\n",
    "x"
   ]
  },
  {
   "cell_type": "markdown",
   "metadata": {},
   "source": [
    "## Handling an unknown number of input arguments\n",
    "In some cases, we might not know how many arguments a function needs to accept. For example, consider the following function:"
   ]
  },
  {
   "cell_type": "code",
   "execution_count": null,
   "metadata": {
    "collapsed": true
   },
   "outputs": [],
   "source": [
    "def add(a, b):\n",
    "    return(a+b)\n",
    "add(2, 2)"
   ]
  },
  {
   "cell_type": "markdown",
   "metadata": {},
   "source": [
    "This works, but only for two numbers. "
   ]
  },
  {
   "cell_type": "code",
   "execution_count": null,
   "metadata": {
    "collapsed": true
   },
   "outputs": [],
   "source": [
    "add(2, 2, 2)\n",
    "# ---"
   ]
  },
  {
   "cell_type": "markdown",
   "metadata": {},
   "source": [
    "Of course, we could define a version of \"add\" that works with three numbers, or four....but there's a better way. \n",
    "\n",
    "The special `*args` argument can be passed to the function. Within the function scope, `args` (no `*` asterisk) is then a tuple of all **positional** arguments passed to the function. So, we can write a general `add` this way:"
   ]
  },
  {
   "cell_type": "code",
   "execution_count": 16,
   "metadata": {},
   "outputs": [
    {
     "data": {
      "text/plain": [
       "(4, 6, 10)"
      ]
     },
     "execution_count": 16,
     "metadata": {},
     "output_type": "execute_result"
    }
   ],
   "source": [
    "def better_add(*args):\n",
    "    total = 0\n",
    "    # args is a tuple containing all of the inputs\n",
    "    for a in args:\n",
    "        total += a\n",
    "    return(total)\n",
    "\n",
    "better_add(2, 2), better_add(2, 2, 2), better_add(2, 2, 2, 2, 2)"
   ]
  },
  {
   "cell_type": "markdown",
   "metadata": {},
   "source": [
    "To be clear, using the name `args` is just a convention, one could equally use another name like `numbers` for instance. What matters in this context is the $*$ unpacking operator. This operator can be applied to any iterable and returns the contents of that iterable. For example, the following no longer print the iterables in question but their contents."
   ]
  },
  {
   "cell_type": "code",
   "execution_count": 12,
   "metadata": {},
   "outputs": [
    {
     "name": "stdout",
     "output_type": "stream",
     "text": [
      "h e l l o\n",
      "1 2 3 4\n",
      "1 2 3 4\n"
     ]
    }
   ],
   "source": [
    "s = \"hello\"\n",
    "print(*s)\n",
    "my_list = [1,2,3,4]\n",
    "print(*my_list)\n",
    "my_tuple = (1,2,3,4)\n",
    "print(*my_tuple)"
   ]
  },
  {
   "cell_type": "markdown",
   "metadata": {},
   "source": [
    "Therefore, when we provide a function with a `*args` argument a sequence of unknown positional arguments, the function interprets these positional arguments as an unpacked tuple, called `args`. Therefore, the variable `args` inside the function is a tuple of these unknown positional inputs. Note that by automatically setting the type of `args` as a tuple Python is stopping us from accidently mutating the data of these unknown positional arguments."
   ]
  },
  {
   "cell_type": "markdown",
   "metadata": {},
   "source": [
    "In some cases, you might not be sure how many **keyword** arguments your function needs to accept. In this case, use `**kwargs` (with two `*` asterisks). Having done so, `kwargs` will be available as a dictionary within the function scope. "
   ]
  },
  {
   "cell_type": "code",
   "execution_count": 28,
   "metadata": {},
   "outputs": [
    {
     "name": "stdout",
     "output_type": "stream",
     "text": [
      "My favorite cuisine is Greek.\n",
      "My favorite music is Jazz.\n",
      "My favorite sport is climbing.\n"
     ]
    }
   ],
   "source": [
    "def favorites(**kwargs):    \n",
    "    for key, val in kwargs.items():\n",
    "        print(\"My favorite \" + key + \" is \" + val + \".\")\n",
    "\n",
    "favorites(cuisine = \"Greek\", music = \"Jazz\", sport = 'climbing')\n",
    "# ---"
   ]
  },
  {
   "cell_type": "markdown",
   "metadata": {},
   "source": [
    "Again the name `kwargs` is not important, we could for instance use `pairs`, what matters is the `**` unpacking operator. Analagous to the `*` operator for iterables, `**` unpacks dictionaries. When we provide a function with a `**kwargs` argument a sequence of unknown keyword arguments, the function interprets these keyword arguments as an unpacked dictionary called `kwargs`. Therefore, the variable `kwargs` inside the function is a dictionary containing the unknown keyword arguments.\n",
    "\n",
    "Note that it is possible to use `*args` and `**kwargs` together. Since positional arguments always come first, it's necessary to use `*args` before `**kwargs`. "
   ]
  },
  {
   "cell_type": "markdown",
   "metadata": {},
   "source": [
    "## Anonymous functions\n",
    "$\\lambda$-expressions provide a concise way to create very simple functions. While the syntax is somewhat odd, it's quite readable once you know the correct idiom. "
   ]
  },
  {
   "cell_type": "code",
   "execution_count": null,
   "metadata": {
    "collapsed": true
   },
   "outputs": [],
   "source": [
    "# \"double is the function that takes x and multiplies it by 2\"\n",
    "double = lambda x: 2*x \n",
    "\n",
    "# same as:\n",
    "# def double(x):\n",
    "#     return 2*x\n",
    "\n",
    "double(4)"
   ]
  },
  {
   "cell_type": "code",
   "execution_count": null,
   "metadata": {
    "collapsed": true
   },
   "outputs": [],
   "source": [
    "# \"second_char is the function that returns the second character of a string s\"\n",
    "second_char = lambda s: s[1] "
   ]
  },
  {
   "cell_type": "code",
   "execution_count": null,
   "metadata": {
    "collapsed": true
   },
   "outputs": [],
   "source": [
    "second_char(\"PIC16A\")"
   ]
  },
  {
   "cell_type": "markdown",
   "metadata": {},
   "source": [
    "$\\lambda$-expressions are extremely useful when a relatively simple function is required, for example when sorting lists. "
   ]
  },
  {
   "cell_type": "code",
   "execution_count": 29,
   "metadata": {},
   "outputs": [
    {
     "data": {
      "text/plain": [
       "[4, 6, 4, 6, 2, 0, 9, 3, 7, 3, 9, 5]"
      ]
     },
     "execution_count": 29,
     "metadata": {},
     "output_type": "execute_result"
    }
   ],
   "source": [
    "# sort a list into even and odd:\n",
    "\n",
    "L = [4, 6, 9, 3, 4, 6, 7, 3, 2, 0, 9, 5]\n",
    "L.sort(key = lambda x: (x % 2) == 1)\n",
    "L"
   ]
  },
  {
   "cell_type": "code",
   "execution_count": 33,
   "metadata": {},
   "outputs": [
    {
     "data": {
      "text/plain": [
       "[6, 6, 4, 4, 2, 0, 9, 9, 7, 5, 3, 3]"
      ]
     },
     "execution_count": 33,
     "metadata": {},
     "output_type": "execute_result"
    }
   ],
   "source": [
    "# decreasing order within even and odd groups\n",
    "L.sort(key = lambda x: ((x % 2) == 1, -x))\n",
    "L"
   ]
  },
  {
   "cell_type": "code",
   "execution_count": 31,
   "metadata": {},
   "outputs": [
    {
     "data": {
      "text/plain": [
       "6"
      ]
     },
     "execution_count": 31,
     "metadata": {},
     "output_type": "execute_result"
    }
   ],
   "source": [
    "# lambda functions also accept multiple arguments\n",
    "multiply = lambda x,y: x*y\n",
    "multiply(2, 3)"
   ]
  },
  {
   "cell_type": "markdown",
   "metadata": {},
   "source": [
    "$\\lambda$-expressions which are complicated are hard to read and debug. Generally speaking, these expressions should not contain control flow statements, and should not be longer than a single, 80-character line of code. If your $\\lambda$-expression is getting complex, use an explicitly-defined function instead. "
   ]
  }
 ],
 "metadata": {
  "kernelspec": {
   "display_name": "Python [conda env:pytorch-env]",
   "language": "python",
   "name": "conda-env-pytorch-env-py"
  },
  "language_info": {
   "codemirror_mode": {
    "name": "ipython",
    "version": 3
   },
   "file_extension": ".py",
   "mimetype": "text/x-python",
   "name": "python",
   "nbconvert_exporter": "python",
   "pygments_lexer": "ipython3",
   "version": "3.6.2"
  }
 },
 "nbformat": 4,
 "nbformat_minor": 4
}
