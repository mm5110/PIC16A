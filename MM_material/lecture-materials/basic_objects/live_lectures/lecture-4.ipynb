{
 "cells": [
  {
   "cell_type": "markdown",
   "metadata": {},
   "source": [
    "# Lecture 4: more collections\n",
    "\n",
    "In this lecture we will review the three collections introduced in the self-study videos and notebooks, namely:\n",
    "\n",
    "1) tuples\n",
    "\n",
    "2) sets\n",
    "\n",
    "3) dictionaries"
   ]
  },
  {
   "cell_type": "markdown",
   "metadata": {},
   "source": [
    "## Tuples\n",
    "Tuples can be thought of as immutable lists and are declared in a very similar way, with a bracketed list, using `( )`, of items delimited by commas. Tuples cannot be changed once declared or instantiated, they also have fewer methods compared with lists.\n",
    "    - True or False in regard to tuples:\n",
    "        - collection\n",
    "        - iterable\n",
    "        - ordered (or indexed)\n",
    "        - mutable\n",
    "        - elements must be unique\n",
    "    - Give a use case in which it might be better to use a tuple rather than a list"
   ]
  },
  {
   "cell_type": "code",
   "execution_count": null,
   "metadata": {
    "collapsed": true
   },
   "outputs": [],
   "source": [
    "# Declaration"
   ]
  },
  {
   "cell_type": "code",
   "execution_count": null,
   "metadata": {
    "collapsed": true
   },
   "outputs": [],
   "source": [
    "# Element access"
   ]
  },
  {
   "cell_type": "code",
   "execution_count": null,
   "metadata": {
    "collapsed": true
   },
   "outputs": [],
   "source": [
    "# Element assignment is not possible"
   ]
  },
  {
   "cell_type": "code",
   "execution_count": null,
   "metadata": {
    "collapsed": true
   },
   "outputs": [],
   "source": [
    "# Tuple methods\n",
    "# index\n",
    "# count"
   ]
  },
  {
   "cell_type": "markdown",
   "metadata": {},
   "source": [
    "## Sets\n",
    "Sets in python work in the same way as they do in mathematics. They are declared with a bracketed list, using `{ }`, of items delimited by commas.\n",
    "    - True or False in regard to sets:\n",
    "        - collection\n",
    "        - iterable\n",
    "        - ordered (or indexed)\n",
    "        - mutable\n",
    "        - elements must be unique\n",
    "    - Give a use case in which it might be better to use a set rather than a list or tuple"
   ]
  },
  {
   "cell_type": "code",
   "execution_count": null,
   "metadata": {
    "collapsed": true
   },
   "outputs": [],
   "source": [
    "# Declaration or creation"
   ]
  },
  {
   "cell_type": "code",
   "execution_count": null,
   "metadata": {
    "collapsed": true
   },
   "outputs": [],
   "source": [
    "# Element access"
   ]
  },
  {
   "cell_type": "code",
   "execution_count": null,
   "metadata": {
    "collapsed": true
   },
   "outputs": [],
   "source": [
    "# Element assignment"
   ]
  },
  {
   "cell_type": "code",
   "execution_count": null,
   "metadata": {
    "collapsed": true
   },
   "outputs": [],
   "source": [
    "# Set methods\n",
    "# issubset()\n",
    "# symmetric_difference()\n",
    "# isdisjoint()\n",
    "#..."
   ]
  },
  {
   "cell_type": "code",
   "execution_count": null,
   "metadata": {
    "collapsed": true
   },
   "outputs": [],
   "source": [
    "# Challenge: using only list comprehensions and sets find all numbers that are divisible \n",
    "# by 3 and 5\n",
    "# by 3 or 5\n",
    "# by 3 but not 5\n",
    "# by neither 3 or 5"
   ]
  },
  {
   "cell_type": "markdown",
   "metadata": {},
   "source": [
    "## Dictionaries\n",
    "Dictionaries in python work in are sets of key-value pairs. They are declared with a bracketed list, using `{ }`, of pairs, key:value, delimited by commas.\n",
    "    - True or False in regard to dictionaries:\n",
    "        - collection\n",
    "        - iterable\n",
    "        - ordered (or indexed)\n",
    "        - mutable\n",
    "        - elements must be unique\n",
    "        - keys must be unique\n",
    "        - values must be unique\n",
    "    - Give a use case in which it might be better to use a dictionary rather than a list, tuple or set"
   ]
  },
  {
   "cell_type": "code",
   "execution_count": null,
   "metadata": {
    "collapsed": true
   },
   "outputs": [],
   "source": [
    "# Declaration or creation"
   ]
  },
  {
   "cell_type": "code",
   "execution_count": null,
   "metadata": {
    "collapsed": true
   },
   "outputs": [],
   "source": [
    "# Value access"
   ]
  },
  {
   "cell_type": "code",
   "execution_count": null,
   "metadata": {
    "collapsed": true
   },
   "outputs": [],
   "source": [
    "# Value assignment"
   ]
  },
  {
   "cell_type": "code",
   "execution_count": null,
   "metadata": {
    "collapsed": true
   },
   "outputs": [],
   "source": [
    "# Adding further elements to a list"
   ]
  },
  {
   "cell_type": "code",
   "execution_count": 3,
   "metadata": {},
   "outputs": [],
   "source": [
    "# Some methods with dictionaries\n",
    "# .get() to avoid key error\n",
    "# initialise a dict with none values using .fromkeys(keys)\n",
    "# .setdefault(key, default) set value of key, if key dosn't exist initialise with default"
   ]
  },
  {
   "cell_type": "code",
   "execution_count": 5,
   "metadata": {},
   "outputs": [],
   "source": [
    "# Challenge: store down each unique word in a string into a collection that allows \n",
    "# one to easily access the distribution of its left and right neighbour words.\n",
    "s = \"The only person for whom the house was in any way special was Arthur Dent, and that was only because it happened to be the one he lived in. He had lived in it for about three years, ever since he had moved out of London because it made him nervous and irritable. He was about thirty as well, tall, dark-haired and never quite at ease with himself. The thing that used to worry him most was the fact that people always used to ask him what he was looking so worried about. He worked in local radio which he always used to tell his friends was a lot more interesting than they probably thought. It was, too—most of his friends worked in advertising.\"\n",
    "\n"
   ]
  }
 ],
 "metadata": {
  "kernelspec": {
   "display_name": "Python [conda env:pytorch-env]",
   "language": "python",
   "name": "conda-env-pytorch-env-py"
  },
  "language_info": {
   "codemirror_mode": {
    "name": "ipython",
    "version": 3
   },
   "file_extension": ".py",
   "mimetype": "text/x-python",
   "name": "python",
   "nbconvert_exporter": "python",
   "pygments_lexer": "ipython3",
   "version": "3.6.2"
  }
 },
 "nbformat": 4,
 "nbformat_minor": 2
}
