{
 "cells": [
  {
   "cell_type": "markdown",
   "metadata": {},
   "source": [
    "# Lecture 2: numbers, strings and variables\n",
    "What we will review:\n",
    "\n",
    "1) Variables\n",
    "\n",
    "2) Basic math operations and arithmetic errors\n",
    "\n",
    "3) Processing strings"
   ]
  },
  {
   "cell_type": "markdown",
   "metadata": {},
   "source": [
    "## 1) Variables in python"
   ]
  },
  {
   "cell_type": "markdown",
   "metadata": {},
   "source": [
    "Recall from PIC10A that in C++ a variable is a memory location with a unique name. In Python a variable is a name bound to particular memory location. In particular this has the following implications:\n",
    "    - Python variables are not necessarily unique! The same memory location can have multiple names potentially\n",
    "    - Assignment binds a variable or name to a memory location\n",
    "    - Declaring a python variables requires only assignment\n",
    "    - As names can be bound to different address the same name can be used to represent multiple different data types (Python is dynamically typed!)"
   ]
  },
  {
   "cell_type": "code",
   "execution_count": null,
   "metadata": {},
   "outputs": [],
   "source": [
    "x = 1000\n",
    "y = 1000\n",
    "x==y, x is y"
   ]
  },
  {
   "cell_type": "code",
   "execution_count": null,
   "metadata": {},
   "outputs": [],
   "source": [
    "x = 1000\n",
    "y = x\n",
    "x==y, x is y"
   ]
  },
  {
   "cell_type": "code",
   "execution_count": null,
   "metadata": {},
   "outputs": [],
   "source": [
    "x = 2\n",
    "y = 4\n",
    "z = 4/x\n",
    "x == z, x is z"
   ]
  },
  {
   "cell_type": "code",
   "execution_count": null,
   "metadata": {
    "collapsed": true
   },
   "outputs": [],
   "source": [
    "x = 2\n",
    "y = 4\n",
    "z = 4/x\n",
    "x == z, x is z"
   ]
  },
  {
   "cell_type": "markdown",
   "metadata": {},
   "source": [
    "Recall the difference between **mutable** and **immutable** data types:\n",
    "    - immutable data types are those that cannot be changed after instantiation,\n",
    "    - mutable data types can!"
   ]
  },
  {
   "cell_type": "code",
   "execution_count": null,
   "metadata": {
    "collapsed": true
   },
   "outputs": [],
   "source": [
    "fruits = ['apple', 'grapes', 'pears']\n",
    "fruits[0] = 'Apple'\n",
    "fruits"
   ]
  },
  {
   "cell_type": "code",
   "execution_count": null,
   "metadata": {
    "collapsed": true
   },
   "outputs": [],
   "source": [
    "fruits = ['apple', 'grapes', 'pears']\n",
    "fruits[0][0] = 'A'\n",
    "fruits"
   ]
  },
  {
   "cell_type": "markdown",
   "metadata": {},
   "source": [
    "When handling mutable objects important to note that changing the data stored at a memory location will impact all names bound to that memory location!"
   ]
  },
  {
   "cell_type": "code",
   "execution_count": null,
   "metadata": {},
   "outputs": [],
   "source": [
    "x = [1,2,3]\n",
    "y = [x,x,x]\n",
    "x[0] = 4"
   ]
  },
  {
   "cell_type": "code",
   "execution_count": null,
   "metadata": {},
   "outputs": [],
   "source": [
    "y[0][0] = 1\n",
    "x"
   ]
  },
  {
   "cell_type": "markdown",
   "metadata": {},
   "source": [
    "## 2) Basic math operations and some comments on arithmetic error"
   ]
  },
  {
   "cell_type": "code",
   "execution_count": null,
   "metadata": {
    "collapsed": true
   },
   "outputs": [],
   "source": [
    "# Linear combinations"
   ]
  },
  {
   "cell_type": "code",
   "execution_count": null,
   "metadata": {
    "collapsed": true
   },
   "outputs": [],
   "source": [
    "# Floor division"
   ]
  },
  {
   "cell_type": "code",
   "execution_count": null,
   "metadata": {},
   "outputs": [],
   "source": [
    "# Modulus"
   ]
  },
  {
   "cell_type": "code",
   "execution_count": null,
   "metadata": {
    "collapsed": true
   },
   "outputs": [],
   "source": [
    "# Powers"
   ]
  },
  {
   "cell_type": "code",
   "execution_count": null,
   "metadata": {},
   "outputs": [],
   "source": [
    "37.4 % 12.2 # Example from self-study video"
   ]
  },
  {
   "cell_type": "markdown",
   "metadata": {},
   "source": [
    "### Exploring approximation error with a 6 bit calculator\n",
    "Suppose our calculator only has 6 bits in which the first bit represents the sign and all other bits correspond to descending powers of 2, starting at 3. This is an example of a fixed point format.\n",
    "    - How many distinct numbers can one represent?\n",
    "    - What is the smallest number that can be represented?\n",
    "    - What is the largest number?\n",
    "    - Which representation best approximates 1/2? Is there an approximation error?\n",
    "    - Which representation best approximates 10/16? Is there an approximation error?\n",
    "    - If we try to carry out 10/32 + 11/32 what does our calculator return? "
   ]
  },
  {
   "cell_type": "markdown",
   "metadata": {},
   "source": [
    "### Floating point arithmetic\n",
    "Floating point arithmetic adopts the following convention.\n",
    "$$\n",
    "significand \\times base^{exponent}\n",
    "$$\n",
    "Example: $1.2345 = 12345 \\times 10^{-4}$\n",
    "\n",
    "Floating point is fairly ubiquitious and well standardised. Consists of two fixed point representations (each with a signed bit), the significand and the exponent. IEEE floating point representations:\n",
    " - 32 bit: 24 bit significand, 8 bit exponent\n",
    " - 64 bit: 53 bit significand, 11 bit exponent \n",
    "\n",
    "Questions:\n",
    "    - Why do you think it is called floating point as opposed to the fixed point example we gave above?\n",
    "    - What is the key benefit of floating point over fixed?\n",
    "\n",
    "\n",
    "This is not a course in scientific computing! So we will not discuss this in anymore detail other than to highlight a few common mistakes / traps."
   ]
  },
  {
   "cell_type": "code",
   "execution_count": null,
   "metadata": {},
   "outputs": [],
   "source": [
    "print('{0:.18f}'.format(0.1)) # Representation or approximation errors are common but small! Treat floats as noisy representations"
   ]
  },
  {
   "cell_type": "code",
   "execution_count": null,
   "metadata": {},
   "outputs": [],
   "source": [
    "0.1+0.1+0.1 == 0.3 # Because of this be careful using logical statements like == on floats!"
   ]
  },
  {
   "cell_type": "code",
   "execution_count": null,
   "metadata": {},
   "outputs": [],
   "source": [
    "tol = 1e-10 # If you do need to do logical checks then best to set and use a tolerance\n",
    "abs(0.1+0.1+0.1 - 0.3) < tol"
   ]
  },
  {
   "cell_type": "code",
   "execution_count": null,
   "metadata": {},
   "outputs": [],
   "source": [
    "print('{0:.18f}'.format(0.1*999)) # Be careful, errors can accumulate!"
   ]
  },
  {
   "cell_type": "markdown",
   "metadata": {},
   "source": [
    "## 3 ) Manipulating strings"
   ]
  },
  {
   "cell_type": "code",
   "execution_count": null,
   "metadata": {
    "collapsed": true
   },
   "outputs": [],
   "source": [
    "# Declaring a string\n",
    "s = 'Calculating Pythons'"
   ]
  },
  {
   "cell_type": "code",
   "execution_count": null,
   "metadata": {
    "collapsed": true
   },
   "outputs": [],
   "source": [
    "# Accessing entries of a string"
   ]
  },
  {
   "cell_type": "code",
   "execution_count": null,
   "metadata": {
    "collapsed": true
   },
   "outputs": [],
   "source": [
    "# Accessing every kth entry"
   ]
  },
  {
   "cell_type": "code",
   "execution_count": null,
   "metadata": {
    "collapsed": true
   },
   "outputs": [],
   "source": [
    "# Reversing order of a string"
   ]
  },
  {
   "cell_type": "code",
   "execution_count": null,
   "metadata": {},
   "outputs": [],
   "source": [
    "# STRING METHODS\n",
    "# capitalise / lower case / upper case\n",
    "# count occurence of characters and phrases\n",
    "# find the location of a string (first time appears)\n",
    "# strip white spaces at the end\n",
    "# split into a list"
   ]
  },
  {
   "cell_type": "markdown",
   "metadata": {},
   "source": [
    "## Questions?"
   ]
  },
  {
   "cell_type": "code",
   "execution_count": null,
   "metadata": {
    "collapsed": true
   },
   "outputs": [],
   "source": []
  }
 ],
 "metadata": {
  "kernelspec": {
   "display_name": "Python [conda env:pytorch-env]",
   "language": "python",
   "name": "conda-env-pytorch-env-py"
  },
  "language_info": {
   "codemirror_mode": {
    "name": "ipython",
    "version": 3
   },
   "file_extension": ".py",
   "mimetype": "text/x-python",
   "name": "python",
   "nbconvert_exporter": "python",
   "pygments_lexer": "ipython3",
   "version": "3.6.2"
  }
 },
 "nbformat": 4,
 "nbformat_minor": 2
}
