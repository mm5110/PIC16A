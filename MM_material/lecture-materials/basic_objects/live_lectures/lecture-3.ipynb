{
 "cells": [
  {
   "cell_type": "markdown",
   "metadata": {},
   "source": [
    "# Lecture 3: iterables and control flow\n",
    "In this lecture we review the following\n",
    "\n",
    "1) for loops and while loops\n",
    "\n",
    "2) iterables, in particular strings, lists and list comprehensions\n",
    "\n",
    "3) continue and break"
   ]
  },
  {
   "cell_type": "markdown",
   "metadata": {},
   "source": [
    "## 1) For loops, while loops and `continue` and `break` commands\n",
    "For loops and while loops allow the same piece of code to be run multiple times. In both cases the loop consists of\n",
    "    - a loop body which is denoted through indentation\n",
    "    - an index or loop variable controlling the number of iterations\n",
    "\n",
    "In the case of while loops the index variable is a logical condition: the loop exits when this condition evaluates `false`. In for loops the index variable passes through an iterable."
   ]
  },
  {
   "cell_type": "code",
   "execution_count": null,
   "metadata": {
    "collapsed": true
   },
   "outputs": [],
   "source": [
    "# Simple for and while loop construction examples to familiarise with syntax"
   ]
  },
  {
   "cell_type": "code",
   "execution_count": 3,
   "metadata": {},
   "outputs": [],
   "source": [
    "# Find the sum of all the multiples of 3 OR 5 below 1000."
   ]
  },
  {
   "cell_type": "code",
   "execution_count": 4,
   "metadata": {
    "collapsed": true
   },
   "outputs": [],
   "source": [
    "# Considering the terms in the Fibonacci sequence whose values do not exceed four million, \n",
    "# find the sum of the even-valued terms."
   ]
  },
  {
   "cell_type": "code",
   "execution_count": null,
   "metadata": {
    "collapsed": true
   },
   "outputs": [],
   "source": [
    "# Your turn..."
   ]
  },
  {
   "cell_type": "markdown",
   "metadata": {},
   "source": [
    "Continue and break commands can cause the current loop or full loop to exit respectively"
   ]
  },
  {
   "cell_type": "markdown",
   "metadata": {},
   "source": [
    "<figure class=\"image\" style=\"width:50%\">\n",
    "  <img src=\"https://files.realpython.com/media/t.899f357dd948.png\" alt=\"A schematic while-loop with a placeholder body, followed by a statement outside the loop. The body includes lines for break and continue. The break line has an arrow pointing to the external statement below the loop, while the continue line has an arrow pointing to the while expression.\">\n",
    "  <figcaption><i>Schematic working of break and continue.</i></figcaption>\n",
    "</figure>"
   ]
  },
  {
   "cell_type": "code",
   "execution_count": null,
   "metadata": {
    "collapsed": true
   },
   "outputs": [],
   "source": [
    "# while / for loop example to illustrate breaks \n",
    "# Example problem: find first instance of something in a list or string"
   ]
  },
  {
   "cell_type": "markdown",
   "metadata": {},
   "source": [
    "## 2) A first look at iterables with strings and lists\n",
    "Iterables can be thought of as a collection of objects which can be accessed in a specific order. This week we have encountered two such objects,\n",
    "    - strings: a sequence of characters\n",
    "    - lists: a sequence of generic objects (strings, numbers, other lists! etc...)\n",
    "In both cases the characters/ objects are ordered starting from left to right, and can be accessed according to their index. By iterating over the indeces of the these objects the iterable can be traversed."
   ]
  },
  {
   "cell_type": "code",
   "execution_count": null,
   "metadata": {
    "collapsed": true
   },
   "outputs": [],
   "source": [
    "# Print out the contents of a string in a list"
   ]
  },
  {
   "cell_type": "code",
   "execution_count": null,
   "metadata": {
    "collapsed": true
   },
   "outputs": [],
   "source": [
    "# Put the contents of a string into a list and visa versa"
   ]
  },
  {
   "cell_type": "code",
   "execution_count": null,
   "metadata": {
    "collapsed": true
   },
   "outputs": [],
   "source": [
    "# Objects in a list can have different type"
   ]
  },
  {
   "cell_type": "code",
   "execution_count": null,
   "metadata": {
    "collapsed": true
   },
   "outputs": [],
   "source": [
    "# Lists have a bunch of methods associated with them which can come in handy\n",
    "# insert an entry\n",
    "# return the index of the first object which matches a value\n",
    "# reverse the order of a list\n",
    "# remove the first entry in list which matches a value"
   ]
  },
  {
   "cell_type": "markdown",
   "metadata": {},
   "source": [
    "List comprehensions, whose notation is based on set builder notation are an elegant way to construct lists."
   ]
  },
  {
   "cell_type": "code",
   "execution_count": null,
   "metadata": {
    "collapsed": true
   },
   "outputs": [],
   "source": [
    "# Put the contents of a string into a list"
   ]
  },
  {
   "cell_type": "code",
   "execution_count": null,
   "metadata": {
    "collapsed": true
   },
   "outputs": [],
   "source": [
    "# Remove all the vowels in a string"
   ]
  },
  {
   "cell_type": "code",
   "execution_count": 7,
   "metadata": {},
   "outputs": [],
   "source": [
    "# Your turn..."
   ]
  },
  {
   "cell_type": "markdown",
   "metadata": {},
   "source": [
    "## 3) Branching"
   ]
  },
  {
   "cell_type": "markdown",
   "metadata": {},
   "source": [
    "Condition statements `if`, `elif`, and `else` allow us to run certain pieces of code only if particular logical conditions are satisfied, thereby enabling different program branches."
   ]
  },
  {
   "cell_type": "markdown",
   "metadata": {},
   "source": [
    "<figure class=\"image\" style=\"width:50%\">\n",
    "  <img src=\"https://media.geeksforgeeks.org/wp-content/uploads/if-statement.jpg\" alt=\"A schematic while-loop with a placeholder body, followed by a statement outside the loop. The body includes lines for break and continue. The break line has an arrow pointing to the external statement below the loop, while the continue line has an arrow pointing to the while expression.\">\n",
    "  <figcaption><i>Schematic illustrating branching functionality.</i></figcaption>\n",
    "</figure>"
   ]
  },
  {
   "cell_type": "code",
   "execution_count": 12,
   "metadata": {
    "collapsed": true
   },
   "outputs": [],
   "source": [
    "# Write a simple conditional branching statement that process a user input, e.g. convert input number to words"
   ]
  },
  {
   "cell_type": "code",
   "execution_count": null,
   "metadata": {
    "collapsed": true
   },
   "outputs": [],
   "source": []
  }
 ],
 "metadata": {
  "kernelspec": {
   "display_name": "Python [conda env:pytorch-env]",
   "language": "python",
   "name": "conda-env-pytorch-env-py"
  },
  "language_info": {
   "codemirror_mode": {
    "name": "ipython",
    "version": 3
   },
   "file_extension": ".py",
   "mimetype": "text/x-python",
   "name": "python",
   "nbconvert_exporter": "python",
   "pygments_lexer": "ipython3",
   "version": "3.6.2"
  }
 },
 "nbformat": 4,
 "nbformat_minor": 2
}
