{
 "cells": [
  {
   "cell_type": "markdown",
   "metadata": {},
   "source": [
    "## Dictionaries\n",
    "\n",
    "Dictionaries (or `dict`s) are iterables, like lists, tuples, and sets. We've given them their own lecture notes because they are exceptionally useful and also somewhat more complicated than other common iterables. \n",
    "\n",
    "A `dict` is a **set** of key-value pairs, and is typically used to indicate a relationship between different types of objects. Like sets, `dict`s are enclosed in `{}` curly braces. A `:` colon separates keys from values, and key-value pairs are separated by commas. \n",
    "\n",
    "For example, here's a `dict` that assigns a classification to an animal:"
   ]
  },
  {
   "cell_type": "code",
   "execution_count": 3,
   "metadata": {},
   "outputs": [
    {
     "data": {
      "text/plain": [
       "{'alligator': 'reptile',\n",
       " 'butterfly': 'insect',\n",
       " 'elephant': 'mammal',\n",
       " 'hippo': 'mammal',\n",
       " 'iguana': 'reptile'}"
      ]
     },
     "execution_count": 3,
     "metadata": {},
     "output_type": "execute_result"
    }
   ],
   "source": [
    "# define dictionary, e.g., animals and their class\n",
    "a = {\n",
    "'elephant':'mammal',\n",
    "'alligator':'reptile',\n",
    "'butterfly':'insect',\n",
    "'hippo':'mammal',\n",
    "'iguana':'reptile'\n",
    "}\n",
    "a"
   ]
  },
  {
   "cell_type": "markdown",
   "metadata": {},
   "source": [
    "One can \"look up\" the class (value) of an animal in our dictionary by passing the name of the animal (item):"
   ]
  },
  {
   "cell_type": "code",
   "execution_count": 4,
   "metadata": {},
   "outputs": [
    {
     "data": {
      "text/plain": [
       "'mammal'"
      ]
     },
     "execution_count": 4,
     "metadata": {},
     "output_type": "execute_result"
    }
   ],
   "source": [
    "# look up class of an animal\n",
    "a['elephant']"
   ]
  },
  {
   "cell_type": "markdown",
   "metadata": {},
   "source": [
    "The *keys* of a dict should be immutable and distinct. The items can be mutable and non-distinct. Note that like sets dicts are themselves mutable."
   ]
  },
  {
   "cell_type": "code",
   "execution_count": 7,
   "metadata": {},
   "outputs": [],
   "source": [
    "# can't use mutable keys, tuples are immutable, so this is ok, as are strings and numbers\n",
    "\n",
    "bad_one = {\n",
    "    1: \"list\"\n",
    "}"
   ]
  },
  {
   "cell_type": "code",
   "execution_count": 10,
   "metadata": {},
   "outputs": [
    {
     "data": {
      "text/plain": [
       "{'key1': 'value1'}"
      ]
     },
     "execution_count": 10,
     "metadata": {},
     "output_type": "execute_result"
    }
   ],
   "source": [
    "# don't duplicate keys -- keys will be dropped. \n",
    "bad_two = {\n",
    "    \"key1\" : \"value1\",\n",
    "    \"key1\" : \"value2\"\n",
    "}\n",
    "bad_two\n",
    "\n",
    "bad_two[\"key1\"] = 'value1'\n",
    "bad_two"
   ]
  },
  {
   "cell_type": "markdown",
   "metadata": {},
   "source": [
    "In many cases, it's useful to build dictionaries incrementally, one key-value pair at a time:  "
   ]
  },
  {
   "cell_type": "code",
   "execution_count": 11,
   "metadata": {},
   "outputs": [
    {
     "data": {
      "text/plain": [
       "{'giraffe': 'mammal', 1: 'number'}"
      ]
     },
     "execution_count": 11,
     "metadata": {},
     "output_type": "execute_result"
    }
   ],
   "source": [
    "# build a dictionary incrementally\n",
    "b = {}\n",
    "b['giraffe'] = 'mammal'\n",
    "b[1] = 'number'\n",
    "\n",
    "\n",
    "b"
   ]
  },
  {
   "cell_type": "markdown",
   "metadata": {},
   "source": [
    "## Dictionary Methods\n",
    "\n",
    "Dictionaries come with a number of useful methods (functions) for retrieving and manipulating their values. \n",
    "\n",
    "### Getting Data\n",
    "\n",
    "A common problem when working with `dict`s comes when we try to access a key that doesn't exist yet. "
   ]
  },
  {
   "cell_type": "code",
   "execution_count": 13,
   "metadata": {},
   "outputs": [
    {
     "ename": "KeyError",
     "evalue": "'giraffe'",
     "output_type": "error",
     "traceback": [
      "\u001b[0;31m---------------------------------------------------------------------------\u001b[0m",
      "\u001b[0;31mKeyError\u001b[0m                                  Traceback (most recent call last)",
      "\u001b[0;32m<ipython-input-13-aadb58bc99bd>\u001b[0m in \u001b[0;36m<module>\u001b[0;34m()\u001b[0m\n\u001b[1;32m      1\u001b[0m \u001b[0;31m# Try and access a value using a key which dosn't exist\u001b[0m\u001b[0;34m\u001b[0m\u001b[0;34m\u001b[0m\u001b[0m\n\u001b[0;32m----> 2\u001b[0;31m \u001b[0ma\u001b[0m\u001b[0;34m[\u001b[0m\u001b[0;34m'giraffe'\u001b[0m\u001b[0;34m]\u001b[0m\u001b[0;34m\u001b[0m\u001b[0m\n\u001b[0m\u001b[1;32m      3\u001b[0m \u001b[0;34m\u001b[0m\u001b[0m\n\u001b[1;32m      4\u001b[0m \u001b[0;31m# ---\u001b[0m\u001b[0;34m\u001b[0m\u001b[0;34m\u001b[0m\u001b[0m\n",
      "\u001b[0;31mKeyError\u001b[0m: 'giraffe'"
     ]
    }
   ],
   "source": [
    "# Try and access a value using a key which dosn't exist\n",
    "a['giraffe']\n",
    "# ---"
   ]
  },
  {
   "cell_type": "code",
   "execution_count": 18,
   "metadata": {},
   "outputs": [
    {
     "name": "stdout",
     "output_type": "stream",
     "text": [
      "mammal\n",
      "reptile\n"
     ]
    },
    {
     "ename": "KeyError",
     "evalue": "'toad'",
     "output_type": "error",
     "traceback": [
      "\u001b[0;31m---------------------------------------------------------------------------\u001b[0m",
      "\u001b[0;31mKeyError\u001b[0m                                  Traceback (most recent call last)",
      "\u001b[0;32m<ipython-input-18-fa9d2e656fc3>\u001b[0m in \u001b[0;36m<module>\u001b[0;34m()\u001b[0m\n\u001b[1;32m      4\u001b[0m \u001b[0;34m\u001b[0m\u001b[0m\n\u001b[1;32m      5\u001b[0m \u001b[0;32mfor\u001b[0m \u001b[0mkey\u001b[0m \u001b[0;32min\u001b[0m \u001b[0ml\u001b[0m\u001b[0;34m:\u001b[0m\u001b[0;34m\u001b[0m\u001b[0m\n\u001b[0;32m----> 6\u001b[0;31m     \u001b[0mprint\u001b[0m\u001b[0;34m(\u001b[0m\u001b[0ma\u001b[0m\u001b[0;34m[\u001b[0m\u001b[0mkey\u001b[0m\u001b[0;34m]\u001b[0m\u001b[0;34m)\u001b[0m\u001b[0;34m\u001b[0m\u001b[0m\n\u001b[0m",
      "\u001b[0;31mKeyError\u001b[0m: 'toad'"
     ]
    }
   ],
   "source": [
    "# Iterate through list of strings, treating as keys but with one key not in place\n",
    "# ---\n",
    "l = ['hippo', 'iguana', 'toad', 2]\n",
    "\n",
    "for key in l:\n",
    "    print(a[key])"
   ]
  },
  {
   "cell_type": "markdown",
   "metadata": {},
   "source": [
    "Our entire code fails because we tried to access one nonexistent key. To avoid this, we can use the `get()` method, which allows us to specify a default value to return in case a key is not found. "
   ]
  },
  {
   "cell_type": "code",
   "execution_count": 19,
   "metadata": {},
   "outputs": [
    {
     "name": "stdout",
     "output_type": "stream",
     "text": [
      "mammal\n",
      "reptile\n",
      "not found!\n",
      "not found!\n"
     ]
    }
   ],
   "source": [
    "for key in l:\n",
    "    print(a.get(key, 'not found!'))\n",
    "# ---"
   ]
  },
  {
   "cell_type": "markdown",
   "metadata": {},
   "source": [
    "We can also get keys and values from a `dict`. These objects are returned as special `dict_keys` and `dict_values` objects, but they can easily be converted into sets or lists. "
   ]
  },
  {
   "cell_type": "code",
   "execution_count": 23,
   "metadata": {},
   "outputs": [
    {
     "data": {
      "text/plain": [
       "dict_values(['mammal', 'reptile', 'insect', 'mammal', 'reptile'])"
      ]
     },
     "execution_count": 23,
     "metadata": {},
     "output_type": "execute_result"
    }
   ],
   "source": [
    "# use .key() method to return keys of dictionary\n",
    "a.values()"
   ]
  },
  {
   "cell_type": "code",
   "execution_count": 26,
   "metadata": {},
   "outputs": [
    {
     "data": {
      "text/plain": [
       "{'insect', 'mammal', 'reptile'}"
      ]
     },
     "execution_count": 26,
     "metadata": {},
     "output_type": "execute_result"
    }
   ],
   "source": [
    "# get set of keys\n",
    "set(a.values())"
   ]
  },
  {
   "cell_type": "code",
   "execution_count": 27,
   "metadata": {},
   "outputs": [
    {
     "data": {
      "text/plain": [
       "['mammal', 'reptile', 'insect', 'mammal', 'reptile']"
      ]
     },
     "execution_count": 27,
     "metadata": {},
     "output_type": "execute_result"
    }
   ],
   "source": [
    "# get list of keys\n",
    "list(a.values())"
   ]
  },
  {
   "cell_type": "markdown",
   "metadata": {},
   "source": [
    "When iterating over key-value pairs, use the `items()` method: "
   ]
  },
  {
   "cell_type": "code",
   "execution_count": null,
   "metadata": {
    "collapsed": true
   },
   "outputs": [],
   "source": [
    "# get items of dictionary"
   ]
  },
  {
   "cell_type": "code",
   "execution_count": 28,
   "metadata": {},
   "outputs": [
    {
     "name": "stdout",
     "output_type": "stream",
     "text": [
      "elephant is mammal\n",
      "alligator is reptile\n",
      "butterfly is insect\n",
      "hippo is mammal\n",
      "iguana is reptile\n"
     ]
    }
   ],
   "source": [
    "for key, val in a.items():\n",
    "    print(key + \" is \" + val)\n",
    "# ---"
   ]
  },
  {
   "cell_type": "markdown",
   "metadata": {},
   "source": [
    "### Modifying Dicts"
   ]
  },
  {
   "cell_type": "markdown",
   "metadata": {},
   "source": [
    "To remove a key-value pair from a `dict`, use the `pop()` method. This method returns the value associated to the supplied key, and then removes the key-value pair in question from the `dict`. "
   ]
  },
  {
   "cell_type": "code",
   "execution_count": 31,
   "metadata": {},
   "outputs": [
    {
     "data": {
      "text/plain": [
       "{'butterfly': 'insect',\n",
       " 'elephant': 'mammal',\n",
       " 'hippo': 'mammal',\n",
       " 'iguana': 'reptile'}"
      ]
     },
     "execution_count": 31,
     "metadata": {},
     "output_type": "execute_result"
    }
   ],
   "source": [
    "# use .pop() method to remove key-value pair with target key\n",
    "a"
   ]
  },
  {
   "cell_type": "markdown",
   "metadata": {},
   "source": [
    "To \"fuse\" two dicts, use `update()`:"
   ]
  },
  {
   "cell_type": "code",
   "execution_count": 38,
   "metadata": {},
   "outputs": [
    {
     "data": {
      "text/plain": [
       "{'elephant': 'mammal',\n",
       " 'butterfly': 'insect',\n",
       " 'hippo': 'mammal',\n",
       " 'iguana': 'reptile',\n",
       " 'giraffe': 'mammal',\n",
       " 1: 'number'}"
      ]
     },
     "execution_count": 38,
     "metadata": {},
     "output_type": "execute_result"
    }
   ],
   "source": [
    "# use a.update(b) method to combine two dictinaries a and b\n",
    "\n",
    "\n",
    "a.update(b)\n",
    "a"
   ]
  },
  {
   "cell_type": "markdown",
   "metadata": {},
   "source": [
    "If any keys supplied to `update()` are already present, the old values will be overwritten: "
   ]
  },
  {
   "cell_type": "code",
   "execution_count": 39,
   "metadata": {},
   "outputs": [
    {
     "data": {
      "text/plain": [
       "{'elephant': 'mammal',\n",
       " 'butterfly': 'insect',\n",
       " 'hippo': 'mammal',\n",
       " 'iguana': 'lizard',\n",
       " 'giraffe': 'mammal',\n",
       " 1: 'number'}"
      ]
     },
     "execution_count": 39,
     "metadata": {},
     "output_type": "execute_result"
    }
   ],
   "source": [
    "# overwrite old key\n",
    "c = {'iguana': 'lizard'}\n",
    "a.update(c)\n",
    "a"
   ]
  },
  {
   "cell_type": "code",
   "execution_count": null,
   "metadata": {
    "collapsed": true
   },
   "outputs": [],
   "source": []
  }
 ],
 "metadata": {
  "kernelspec": {
   "display_name": "Python [default]",
   "language": "python",
   "name": "python3"
  },
  "language_info": {
   "codemirror_mode": {
    "name": "ipython",
    "version": 3
   },
   "file_extension": ".py",
   "mimetype": "text/x-python",
   "name": "python",
   "nbconvert_exporter": "python",
   "pygments_lexer": "ipython3",
   "version": "3.6.2"
  }
 },
 "nbformat": 4,
 "nbformat_minor": 4
}
