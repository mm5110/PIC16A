{
 "cells": [
  {
   "cell_type": "markdown",
   "metadata": {},
   "source": [
    "# More Control Flow\n",
    "In \"For-Loops and Comprehensions,\" we introduced the for-loop -- the simplest way to iterate through data. In this lecture, we'll add `while` loops for iteration, as well as `if` statements for conditional branching. \n",
    "\n",
    "1. Iteration (repeating an operation)\n",
    "2. Branching (performing different operations depending on conditions)\n",
    "\n",
    "We'll move quickly through this material, since these concepts should be familiar from your experience with PIC10A -- only the syntax changes. \n",
    "\n",
    "Two important pieces of syntax: \n",
    "\n",
    "1. The declaration of both loops and conditionals must end with a colon `:`. \n",
    "2. **Whitespace matters.** The body of a loop or branching statement **must be indented**, else Python will throw a syntax error. "
   ]
  },
  {
   "cell_type": "markdown",
   "metadata": {},
   "source": [
    "## Iteration with While-Loops\n",
    "\n",
    "A *while-loop* will repeat a given sequence of commands as long as a boolean (logical) condition evaluates to `True`. The first time that the condition evaluates to `False` the while loop will halt and no more iterations will take place. The primary application of while-loops is to iterate when you are not sure how many iterations are required. \n",
    "\n",
    "Unlike for-loops, it is necessary to initialize the variable of iteration prior to beginning the loop. \n",
    "\n",
    "Make sure that the loop will indeed terminate! "
   ]
  },
  {
   "cell_type": "code",
   "execution_count": 15,
   "metadata": {},
   "outputs": [],
   "source": [
    "# Implement a for loop using a while loop: iterate five times\n"
   ]
  },
  {
   "cell_type": "code",
   "execution_count": 25,
   "metadata": {},
   "outputs": [
    {
     "data": {
      "text/plain": [
       "1"
      ]
     },
     "execution_count": 25,
     "metadata": {},
     "output_type": "execute_result"
    }
   ],
   "source": [
    "# While loops are useful when we don't know how many iterations we need! Example: simulating a coin flip\n",
    "import numpy as np\n",
    "\n",
    "# coin = 1 is heads, coin = 0 represents tails\n",
    "coin = 1\n",
    "num_flips = 0\n",
    "\n",
    "while coin == 1:\n",
    "    coin = np. random.choice([0,1])\n",
    "    num_flips +=1\n",
    "\n",
    "num_flips\n",
    "    "
   ]
  },
  {
   "cell_type": "markdown",
   "metadata": {},
   "source": [
    "Remember also that the full body of the loop executes *after* checking the condition. For example, consider the following attempt to find the largest power of 3 less than 10,000:"
   ]
  },
  {
   "cell_type": "code",
   "execution_count": 27,
   "metadata": {},
   "outputs": [
    {
     "data": {
      "text/plain": [
       "6561"
      ]
     },
     "execution_count": 27,
     "metadata": {},
     "output_type": "execute_result"
    }
   ],
   "source": [
    "# largest power of 3 less than 10,000 -- failed (max n in integers s.t. 3^n< 10,000?)\n",
    "\n",
    "n = 1\n",
    "\n",
    "while 3**(n+1) < 1e4:\n",
    "    n+=1\n",
    "\n",
    "3**n"
   ]
  },
  {
   "cell_type": "markdown",
   "metadata": {},
   "source": [
    "This function fails because the multiplication occurs after the condition `x < 1e5` is checked. So, instead we have to look ahead to the next iterate: "
   ]
  },
  {
   "cell_type": "markdown",
   "metadata": {},
   "source": [
    "## Branching with If-Statements\n",
    "\n",
    "If-statements allow you to perform different blocks of code based on logical tests. Any expression that evaluates to `True` or `False` (i.e. a boolean) can be used. Some useful examples of boolean expressions. "
   ]
  },
  {
   "cell_type": "code",
   "execution_count": 30,
   "metadata": {},
   "outputs": [],
   "source": [
    "# word in list example\n",
    "if 'Pear' in ['Apple', 'Orange', 'Mango']:\n",
    "    print('Mango is in the list')"
   ]
  },
  {
   "cell_type": "code",
   "execution_count": 32,
   "metadata": {},
   "outputs": [
    {
     "data": {
      "text/plain": [
       "True"
      ]
     },
     "execution_count": 32,
     "metadata": {},
     "output_type": "execute_result"
    }
   ],
   "source": [
    "# inequality\n",
    "3 > 2"
   ]
  },
  {
   "cell_type": "code",
   "execution_count": 34,
   "metadata": {},
   "outputs": [
    {
     "data": {
      "text/plain": [
       "False"
      ]
     },
     "execution_count": 34,
     "metadata": {},
     "output_type": "execute_result"
    }
   ],
   "source": [
    "# boolean inequalities AND\n",
    "3 > 2 and 3< 4 and 'Pear' in ['Apple', 'Orange', 'Mango']"
   ]
  },
  {
   "cell_type": "code",
   "execution_count": 35,
   "metadata": {},
   "outputs": [
    {
     "data": {
      "text/plain": [
       "True"
      ]
     },
     "execution_count": 35,
     "metadata": {},
     "output_type": "execute_result"
    }
   ],
   "source": [
    "# boolean inequalities OR\n",
    "3 > 2 and 3< 4 or 'Pear' in ['Apple', 'Orange', 'Mango']"
   ]
  },
  {
   "cell_type": "markdown",
   "metadata": {},
   "source": [
    "Now we can try an example of if-statements. "
   ]
  },
  {
   "cell_type": "code",
   "execution_count": 43,
   "metadata": {},
   "outputs": [
    {
     "name": "stdout",
     "output_type": "stream",
     "text": [
      "Number is positive\n"
     ]
    }
   ],
   "source": [
    "# Example with exlusive branches on sign of number (can only take one branch (if, elif, else))\n",
    "x = 4\n",
    "\n",
    "if x<0:\n",
    "    print('Number is negative')\n",
    "elif x ==0:\n",
    "    print('Number is 0')\n",
    "else:\n",
    "    print('Number is positive')\n",
    "# ---"
   ]
  },
  {
   "cell_type": "code",
   "execution_count": 44,
   "metadata": {},
   "outputs": [
    {
     "name": "stdout",
     "output_type": "stream",
     "text": [
      "Number is positive\n",
      "Number is an integer\n",
      "Number is even\n"
     ]
    }
   ],
   "source": [
    "# Example if statements not exlusive\n",
    "if x<0:\n",
    "    print('Number is negative')\n",
    "elif x ==0:\n",
    "    print('Number is 0')\n",
    "else:\n",
    "    print('Number is positive')\n",
    "    \n",
    "if type(x)==int:\n",
    "    print('Number is an integer')\n",
    "    if x % 2 == 0:\n",
    "        print('Number is even')"
   ]
  },
  {
   "cell_type": "markdown",
   "metadata": {},
   "source": [
    "Branching is often particularly powerful within loops. "
   ]
  },
  {
   "cell_type": "code",
   "execution_count": 45,
   "metadata": {},
   "outputs": [
    {
     "name": "stdout",
     "output_type": "stream",
     "text": [
      "1\n",
      "3\n",
      "5\n",
      "7\n"
     ]
    }
   ],
   "source": [
    "# print odd numbers 1-9\n",
    "for i in range(1,9):\n",
    "    if i%2 != 0:\n",
    "        print(i)\n",
    "\n",
    "# ---"
   ]
  },
  {
   "cell_type": "markdown",
   "metadata": {},
   "source": [
    "## `break` and `continue`\n",
    "\n",
    "Having equipped ourselves with `if` statements, we can now explore two additional constructs for use in `while` loops: `break` and `continue`. Roughly spearking, `break` can be used to halt an entire `while` loop, while `continue` can be used to halt a single iteration and move on to the next one. \n",
    "\n",
    "<figure class=\"image\" style=\"width:50%\">\n",
    "  <img src=\"https://files.realpython.com/media/t.899f357dd948.png\" alt=\"A schematic while-loop with a placeholder body, followed by a statement outside the loop. The body includes lines for break and continue. The break line has an arrow pointing to the external statement below the loop, while the continue line has an arrow pointing to the while expression.\">\n",
    "  <figcaption><i>Schematic working of break and continue.</i></figcaption>\n",
    "</figure>"
   ]
  },
  {
   "cell_type": "markdown",
   "metadata": {},
   "source": [
    "Lets consider the following piece of code which seeks to ascertain whether or not a number is prime (recall a prime number is a natural number that cannot be expressed as a product of two natural numbers each larger than one and smaller than itself). As a single counterexample suffices we can stop testing as soon as we find the first number that our input is divisible by, this saves a lot of computational effort potentially!"
   ]
  },
  {
   "cell_type": "code",
   "execution_count": 48,
   "metadata": {},
   "outputs": [
    {
     "name": "stdout",
     "output_type": "stream",
     "text": [
      "1297 is prime: True\n"
     ]
    }
   ],
   "source": [
    "x = int(1297) # The number we want whether or not it is prime, try running with a few different values!\n",
    "               # Note that if you choose a large odd natural number this cell may take a while to run...\n",
    "\n",
    "# Use an if statement to check that x is in fact a natural number larger than 1!   \n",
    "if type(x) != int or x <= 1:\n",
    "    print('x is not a natural number larger than 1! Try a different value')\n",
    "\n",
    "# If x is a natural number larger than 1 then we proceed\n",
    "else:\n",
    "    x_prime = True # Initialise x_prime as True, i.e., we will assume x is true unless we can find a counterexample!\n",
    "    y = x//2 # Largest natural number we might need to check is a factor is y as 2*y>= x!\n",
    "    i=2\n",
    "    while i<=y:\n",
    "        if x%i==0: # Check if x is divisible by i\n",
    "            x_prime = False # If so then x is not prime!\n",
    "            break # We have a counterexample so we no longer need to check the other naturals up to y!\n",
    "        i+=1\n",
    "    print(str(x) + \" is prime: \" + str(x_prime))"
   ]
  },
  {
   "cell_type": "markdown",
   "metadata": {},
   "source": [
    "Suppose now that we want to print out every natural number less than 100 which is divisible by both 2 and 7."
   ]
  },
  {
   "cell_type": "code",
   "execution_count": 49,
   "metadata": {},
   "outputs": [
    {
     "name": "stdout",
     "output_type": "stream",
     "text": [
      "14\n",
      "28\n",
      "42\n",
      "56\n",
      "70\n",
      "84\n",
      "98\n"
     ]
    }
   ],
   "source": [
    "i = 1\n",
    "while i <= 100:\n",
    "    i+=1\n",
    "    if i % 2 != 0:\n",
    "        continue\n",
    "    if i% 7 == 0:\n",
    "        print(i)\n",
    "# ---"
   ]
  },
  {
   "cell_type": "markdown",
   "metadata": {},
   "source": [
    "While we were able to use `break` and `continue` in these examples, one can usually achieve the same results by adjusting the logical statements of any while loops and or if statements involved. Furthermore, analysing and debugging long, complicated pieces of code which use `break` and `continue` statements can often be more challenging than those which achieve the same result through logical conditions. Therefore use them carefully! Here is how you could write the same programs without using `break` and `continue`."
   ]
  },
  {
   "cell_type": "code",
   "execution_count": 51,
   "metadata": {},
   "outputs": [
    {
     "name": "stdout",
     "output_type": "stream",
     "text": [
      "37681 is prime: False\n"
     ]
    }
   ],
   "source": [
    "x = int(37681) # The number we want whether or not it is prime, try running with a few different values!\n",
    "               # Note that if you choose a large odd natural number this cell may take a while to run...\n",
    "\n",
    "# Use an if statement to check that x is in fact a natural number larger than 1!   \n",
    "if type(x) != int or x <= 1:\n",
    "    print('x is not a natural number larger than 1! Try a different value')\n",
    "\n",
    "# If x is a natural number larger than 1 then we proceed\n",
    "else:\n",
    "    x_prime = True # Initialise x_prime as True, i.e., we will assume x is true unless we can find a counterexample!\n",
    "    y = x//2 # Largest natural number we might need to check is a factor is y as 2*y>= x!\n",
    "    i=2\n",
    "    while i<=y and x_prime is True:\n",
    "        if x%i==0: # Check if x is divisible by i\n",
    "            x_prime = False # If so then x is not prime!\n",
    "        i+=1\n",
    "    print(str(x) + \" is prime: \" + str(x_prime))"
   ]
  },
  {
   "cell_type": "code",
   "execution_count": 52,
   "metadata": {},
   "outputs": [
    {
     "name": "stdout",
     "output_type": "stream",
     "text": [
      "14\n",
      "28\n",
      "42\n",
      "56\n",
      "70\n",
      "84\n",
      "98\n"
     ]
    }
   ],
   "source": [
    "i = 1\n",
    "while i <= 100:\n",
    "    i+=1\n",
    "    if i % 2 == 0 and i%7 == 0:\n",
    "        print(i)\n",
    "# ---"
   ]
  },
  {
   "cell_type": "code",
   "execution_count": null,
   "metadata": {
    "collapsed": true
   },
   "outputs": [],
   "source": []
  }
 ],
 "metadata": {
  "kernelspec": {
   "display_name": "Python [conda env:pytorch-env]",
   "language": "python",
   "name": "conda-env-pytorch-env-py"
  },
  "language_info": {
   "codemirror_mode": {
    "name": "ipython",
    "version": 3
   },
   "file_extension": ".py",
   "mimetype": "text/x-python",
   "name": "python",
   "nbconvert_exporter": "python",
   "pygments_lexer": "ipython3",
   "version": "3.6.2"
  }
 },
 "nbformat": 4,
 "nbformat_minor": 4
}
