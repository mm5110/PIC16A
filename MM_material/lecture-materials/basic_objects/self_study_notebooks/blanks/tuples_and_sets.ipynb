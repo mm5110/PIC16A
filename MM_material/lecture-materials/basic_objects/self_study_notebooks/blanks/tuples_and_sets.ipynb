{
 "cells": [
  {
   "cell_type": "markdown",
   "metadata": {},
   "source": [
    "# More collections: tuples and sets\n",
    "\n",
    "An collection is just an object or container that can hold multiple other objects. We already saw one example of a collection when we studied lists. Python provides a number of convenient collections. In these notes we'll study two further examples of collections beyond lists:\n",
    "- **tuples**: immutable versions of lists\n",
    "- **sets**: not indexed, support set operations"
   ]
  },
  {
   "cell_type": "markdown",
   "metadata": {},
   "source": [
    "## Tuples\n",
    "\n",
    "You can think of a **tuple** as an immutable list. It is ordered and cannot be changed. Tuples are less flexible and have fewer methods associated with them compared with lists, but are useful if one wants to ensure a collection of objects cannot change during the runtime of a program. Tuples are denoted in Python with `()` parentheses. "
   ]
  },
  {
   "cell_type": "code",
   "execution_count": 1,
   "metadata": {},
   "outputs": [
    {
     "data": {
      "text/plain": [
       "('apples', 'pears', 'grapes', 'grapefruit')"
      ]
     },
     "execution_count": 1,
     "metadata": {},
     "output_type": "execute_result"
    }
   ],
   "source": [
    "# Define a tuple and show can go between tuples and lists easily\n",
    "f = ('apples', 'pears', 'grapes', 'grapefruit')\n",
    "f"
   ]
  },
  {
   "cell_type": "code",
   "execution_count": 3,
   "metadata": {},
   "outputs": [
    {
     "data": {
      "text/plain": [
       "'grapes'"
      ]
     },
     "execution_count": 3,
     "metadata": {},
     "output_type": "execute_result"
    }
   ],
   "source": [
    "# Access element of tuple\n",
    "f[2]"
   ]
  },
  {
   "cell_type": "code",
   "execution_count": 7,
   "metadata": {},
   "outputs": [
    {
     "data": {
      "text/plain": [
       "('apples', 'pears', 'kiwis', 'grapefruit')"
      ]
     },
     "execution_count": 7,
     "metadata": {},
     "output_type": "execute_result"
    }
   ],
   "source": [
    "# error, can't change elements of a tuple\n",
    "# ---\n",
    "l = list(f)\n",
    "l[2] = 'kiwis'\n",
    "l\n",
    "f_new = tuple(l)\n",
    "f_new"
   ]
  },
  {
   "cell_type": "markdown",
   "metadata": {},
   "source": [
    "Tuples can be *unpacked* by assigning their contents to a number of variables equal to the length of the tuple. "
   ]
  },
  {
   "cell_type": "code",
   "execution_count": 9,
   "metadata": {},
   "outputs": [
    {
     "data": {
      "text/plain": [
       "'pears'"
      ]
     },
     "execution_count": 9,
     "metadata": {},
     "output_type": "execute_result"
    }
   ],
   "source": [
    "first, second, third, fourth = f# unpack tuple\n",
    "second"
   ]
  },
  {
   "cell_type": "markdown",
   "metadata": {},
   "source": [
    "A convenient way to create new tuples from old is zipping. You can zip two tuples of equal length together in order to make a list of tuples of pairs. For example: "
   ]
  },
  {
   "cell_type": "code",
   "execution_count": 11,
   "metadata": {},
   "outputs": [],
   "source": [
    "f = ('apples', 'pears', 'grapes', 'grapefruit')\n",
    "c = ('red', 'green', 'purple', 'pink')# define colors tuple"
   ]
  },
  {
   "cell_type": "code",
   "execution_count": 14,
   "metadata": {},
   "outputs": [
    {
     "data": {
      "text/plain": [
       "(('apples', 'red'),\n",
       " ('pears', 'green'),\n",
       " ('grapes', 'purple'),\n",
       " ('grapefruit', 'pink'))"
      ]
     },
     "execution_count": 14,
     "metadata": {},
     "output_type": "execute_result"
    }
   ],
   "source": [
    "n = zip(f,c)# combine two tuples, colors and fruits, using zip(,) command\n",
    "tuple(n)"
   ]
  },
  {
   "cell_type": "markdown",
   "metadata": {},
   "source": [
    "Like lists tuples have a couple of useful methods associated with them."
   ]
  },
  {
   "cell_type": "code",
   "execution_count": 18,
   "metadata": {},
   "outputs": [
    {
     "data": {
      "text/plain": [
       "2"
      ]
     },
     "execution_count": 18,
     "metadata": {},
     "output_type": "execute_result"
    }
   ],
   "source": [
    "l = (1,2,3,1,2,3,4,5,3,2,4)# define tuple\n",
    "l.index(4)# index\n",
    "l.count(4)# count"
   ]
  },
  {
   "cell_type": "markdown",
   "metadata": {},
   "source": [
    "# Sets\n",
    "\n",
    "Much as in mathematics, a **set** is an unordered collection of unique elements. As we will observe this means that its elements cannot be accessed via indexing. Sets are highly useful in that they allow set operations to be carried out on groups of objects. Sets are denoted by `{}` curly braces. For example: "
   ]
  },
  {
   "cell_type": "code",
   "execution_count": 26,
   "metadata": {},
   "outputs": [
    {
     "data": {
      "text/plain": [
       "{1, 2, 3, 4, 5}"
      ]
     },
     "execution_count": 26,
     "metadata": {},
     "output_type": "execute_result"
    }
   ],
   "source": [
    "f = {'apples', 'pears', 'grapes', 'grapefruit'}\n",
    "l = (1,2,3,1,2,3,4,5,3,2,4)\n",
    "l_set = set(l)\n",
    "l_set\n",
    "#fruit_set = set(fruits)# Define a set, demonstrate conversion between sets, lists and tuples"
   ]
  },
  {
   "cell_type": "markdown",
   "metadata": {},
   "source": [
    "This looks much like the fruit tuple, only with different delimiters. However, the order of elements has changed. Indeed, there is no order! The key implication is that we cannot retrieve elements through indexing."
   ]
  },
  {
   "cell_type": "code",
   "execution_count": 30,
   "metadata": {},
   "outputs": [
    {
     "name": "stdout",
     "output_type": "stream",
     "text": [
      "pears\n",
      "grapes\n",
      "grapefruit\n",
      "apples\n"
     ]
    }
   ],
   "source": [
    "# Try to access element of a set\n",
    "# ---\n"
   ]
  },
  {
   "cell_type": "markdown",
   "metadata": {},
   "source": [
    "We can, however, add and remove elements, much like we can with lists. "
   ]
  },
  {
   "cell_type": "code",
   "execution_count": 34,
   "metadata": {},
   "outputs": [
    {
     "data": {
      "text/plain": [
       "{'grapefruit', 1, 2, 3, 'pears', 'grapes', 'apples'}"
      ]
     },
     "execution_count": 34,
     "metadata": {},
     "output_type": "execute_result"
    }
   ],
   "source": [
    "f = {'apples', 'pears', 'grapes', 'grapefruit'}\n",
    "n = {1,2,3} # define new set\n",
    "f.update(n)\n",
    "f\n",
    "# use .update() method"
   ]
  },
  {
   "cell_type": "markdown",
   "metadata": {},
   "source": [
    "Although the elements are not indexed or stored in any order sets are still iterable."
   ]
  },
  {
   "cell_type": "code",
   "execution_count": null,
   "metadata": {},
   "outputs": [],
   "source": [
    "# demonstrate iteration over a set"
   ]
  },
  {
   "cell_type": "markdown",
   "metadata": {},
   "source": [
    "As referenced to earlier we can also perform standard set operations on sets:"
   ]
  },
  {
   "cell_type": "code",
   "execution_count": 37,
   "metadata": {},
   "outputs": [],
   "source": [
    "S = {1,2,3} # define S and T\n",
    "T = {3,4,5}\n",
    "# intersection method returns a set which is the intersection S and T"
   ]
  },
  {
   "cell_type": "code",
   "execution_count": 38,
   "metadata": {},
   "outputs": [
    {
     "name": "stdout",
     "output_type": "stream",
     "text": [
      "{1, 2, 3, 4, 5}\n"
     ]
    }
   ],
   "source": [
    "print(S.union(T))# Returns a set which is the union of the two sets S and T"
   ]
  },
  {
   "cell_type": "code",
   "execution_count": 40,
   "metadata": {},
   "outputs": [
    {
     "name": "stdout",
     "output_type": "stream",
     "text": [
      "{4, 5}\n"
     ]
    }
   ],
   "source": [
    "print(T.difference(S))# Returns a set which is the difference of the two sets S and T"
   ]
  },
  {
   "cell_type": "markdown",
   "metadata": {},
   "source": [
    "Recall from your math classes that the elements of a set are unique. As a result a useful application of sets is for enumerating or counting the distinct elements of another collection. For example, let's count the number of distinct items in a list: "
   ]
  },
  {
   "cell_type": "code",
   "execution_count": 41,
   "metadata": {},
   "outputs": [],
   "source": [
    "L = (1, 2, 2, 2, 2, 2, 3, 4, 15, 6, 6, 6, 6, 7, 4)\n",
    "l = set(L)"
   ]
  },
  {
   "cell_type": "code",
   "execution_count": 43,
   "metadata": {},
   "outputs": [
    {
     "data": {
      "text/plain": [
       "7"
      ]
     },
     "execution_count": 43,
     "metadata": {},
     "output_type": "execute_result"
    }
   ],
   "source": [
    "len(l)"
   ]
  },
  {
   "cell_type": "code",
   "execution_count": null,
   "metadata": {
    "collapsed": true
   },
   "outputs": [],
   "source": []
  },
  {
   "cell_type": "code",
   "execution_count": null,
   "metadata": {
    "collapsed": true
   },
   "outputs": [],
   "source": []
  }
 ],
 "metadata": {
  "kernelspec": {
   "display_name": "Python [default]",
   "language": "python",
   "name": "python3"
  },
  "language_info": {
   "codemirror_mode": {
    "name": "ipython",
    "version": 3
   },
   "file_extension": ".py",
   "mimetype": "text/x-python",
   "name": "python",
   "nbconvert_exporter": "python",
   "pygments_lexer": "ipython3",
   "version": "3.6.2"
  }
 },
 "nbformat": 4,
 "nbformat_minor": 4
}
