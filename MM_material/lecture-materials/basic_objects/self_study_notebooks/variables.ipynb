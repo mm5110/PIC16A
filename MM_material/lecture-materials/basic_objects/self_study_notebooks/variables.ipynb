{
 "cells": [
  {
   "cell_type": "markdown",
   "metadata": {},
   "source": [
    "# A brief introduction to variables in python"
   ]
  },
  {
   "cell_type": "markdown",
   "metadata": {},
   "source": [
    "In this lecture we give a short introduction to python variables, in particular highlighting how they might behave slightly differently to the way variables work in C++. We'll discuss\n",
    "1. Declaring variables and casting\n",
    "2. Thinking about python variables as names bound to (or pointing to) a location in memory\n",
    "3. Mutable and immutable objects"
   ]
  },
  {
   "cell_type": "markdown",
   "metadata": {},
   "source": [
    "## Declaring variables and casting"
   ]
  },
  {
   "cell_type": "markdown",
   "metadata": {},
   "source": [
    "Unlike some languages, variables in python do not need to be declared and are created as soon as they are assigned via the assignment '=' operator to an object, such as an integer, float, array or string. Furthermore, python is *dynamically typed*, meaning that you don't need to declare the type of the object when a variable is assigned to it."
   ]
  },
  {
   "cell_type": "code",
   "execution_count": 137,
   "metadata": {},
   "outputs": [
    {
     "data": {
      "text/plain": [
       "(float, 3.14)"
      ]
     },
     "execution_count": 137,
     "metadata": {},
     "output_type": "execute_result"
    }
   ],
   "source": [
    "my_variable = 3.14 # On this line we introduce a variable called \"my_variable\" as assign it to the value 3.14 \n",
    "type(my_variable), my_variable # Here we print the type of the object my_variable is assigned to and the object itself"
   ]
  },
  {
   "cell_type": "markdown",
   "metadata": {},
   "source": [
    "Python dosn't mind if we reassign a variable to a different type, for example lets reassign the variable we just created to a string of characters (we'll discuss processing strings in more detail in the next notebook)."
   ]
  },
  {
   "cell_type": "code",
   "execution_count": 138,
   "metadata": {},
   "outputs": [
    {
     "data": {
      "text/plain": [
       "(str, 'PIC16A is awesome!')"
      ]
     },
     "execution_count": 138,
     "metadata": {},
     "output_type": "execute_result"
    }
   ],
   "source": [
    "my_variable = \"PIC16A is awesome!\" # Here we reassign 'my-variable' to the string\n",
    "type(my_variable), my_variable"
   ]
  },
  {
   "cell_type": "markdown",
   "metadata": {},
   "source": [
    "Sometimes you might want to change the type of the an object, or perhaps the type of an object is ambigious. For example, the number 1 can be considered as a float, string or int depending on our use case. We can change the type of an object through casting, using the commands int( ), str( ) or float( )."
   ]
  },
  {
   "cell_type": "code",
   "execution_count": 143,
   "metadata": {},
   "outputs": [
    {
     "data": {
      "text/plain": [
       "(2, int, '2', str, 2.0, float)"
      ]
     },
     "execution_count": 143,
     "metadata": {},
     "output_type": "execute_result"
    }
   ],
   "source": [
    "x = 2\n",
    "int(x),type(int(x)), str(x), type(str(x)), float(x),type(float(x))"
   ]
  },
  {
   "cell_type": "markdown",
   "metadata": {},
   "source": [
    "## Thinking about python variables as names or bound to locations in memory"
   ]
  },
  {
   "cell_type": "markdown",
   "metadata": {},
   "source": [
    "Typically in programming, a `variable` is a name given to a specific location in memory. The assignment operator `=` allows one to place a particular object or value at said location, for instance in C the following code <br>\n",
    "`int x = 12` <br>\n",
    "`int y = x` <br>\n",
    "first gives the name `x` to a specific memory location, then stores a copy of the integer 12 at this location, then gives the name `y` to another memory location, and stores another copy of 12 at this location as well.\n",
    "\n",
    "In python variables and variable assignment behave a bit differently. Its best to think of python variables as names which can be bound to different locations in memory, throughout run time. In this manner they behave a bit like pointers (if you aren't familiar with pointers just ignore this), albeit without pointer explicit operations! To explore the implications of this we will make use of the `id()` command, which returns the memory location or identifier of the object in question."
   ]
  },
  {
   "cell_type": "code",
   "execution_count": 10,
   "metadata": {},
   "outputs": [
    {
     "data": {
      "text/plain": [
       "(140385013376336, 140385013375056)"
      ]
     },
     "execution_count": 10,
     "metadata": {},
     "output_type": "execute_result"
    }
   ],
   "source": [
    "x = 257\n",
    "id(x), id(257)"
   ]
  },
  {
   "cell_type": "markdown",
   "metadata": {},
   "source": [
    "Reassignment with regard to an immutable object binds the variable to a different memory location. Note that in C the same command would overwrite the data stored in the memory location given the name `x`!"
   ]
  },
  {
   "cell_type": "code",
   "execution_count": 11,
   "metadata": {},
   "outputs": [
    {
     "data": {
      "text/plain": [
       "140385013376304"
      ]
     },
     "execution_count": 11,
     "metadata": {},
     "output_type": "execute_result"
    }
   ],
   "source": [
    "x = 258\n",
    "id(x)"
   ]
  },
  {
   "cell_type": "markdown",
   "metadata": {},
   "source": [
    "If we assign different variables the same value then this will create two distinct copies of the value at two different memory locations."
   ]
  },
  {
   "cell_type": "code",
   "execution_count": 12,
   "metadata": {},
   "outputs": [
    {
     "data": {
      "text/plain": [
       "(140385013376400, 140385013376464)"
      ]
     },
     "execution_count": 12,
     "metadata": {},
     "output_type": "execute_result"
    }
   ],
   "source": [
    "x = 257\n",
    "y = 257\n",
    "id(x), id(y)"
   ]
  },
  {
   "cell_type": "markdown",
   "metadata": {},
   "source": [
    "A useful way of checking if two variables in python reference the same memory locations is via the `is` command. As the following cell illustrates, although `y` and `x` reference the same value (which we check via `==`), they are in fact referencing copies of the same object stored at two different memory locations (which we can check using `is`)."
   ]
  },
  {
   "cell_type": "code",
   "execution_count": 13,
   "metadata": {},
   "outputs": [
    {
     "data": {
      "text/plain": [
       "(True, False)"
      ]
     },
     "execution_count": 13,
     "metadata": {},
     "output_type": "execute_result"
    }
   ],
   "source": [
    "y==x, y is x"
   ]
  },
  {
   "cell_type": "markdown",
   "metadata": {},
   "source": [
    "Its worth noting here that the python interpreter creates objects for integers in the interval [-5, 256] at startup. Furthermore, when you assign different variables to an integer value in this range then they will automatically be set to reference the same object. As the above examples show this is not typically true!"
   ]
  },
  {
   "cell_type": "code",
   "execution_count": 16,
   "metadata": {},
   "outputs": [
    {
     "data": {
      "text/plain": [
       "(True, True)"
      ]
     },
     "execution_count": 16,
     "metadata": {},
     "output_type": "execute_result"
    }
   ],
   "source": [
    "x=2\n",
    "y=2\n",
    "y==x, y is x # Note id(y)==id(x) identity operator is, i.e., 'y is x'"
   ]
  },
  {
   "cell_type": "markdown",
   "metadata": {},
   "source": [
    "Now let us explore what happens when we assign y to x."
   ]
  },
  {
   "cell_type": "code",
   "execution_count": 18,
   "metadata": {},
   "outputs": [
    {
     "data": {
      "text/plain": [
       "(True, True)"
      ]
     },
     "execution_count": 18,
     "metadata": {},
     "output_type": "execute_result"
    }
   ],
   "source": [
    "x = 257\n",
    "y = x\n",
    "y ==x, y is x"
   ]
  },
  {
   "cell_type": "markdown",
   "metadata": {},
   "source": [
    "Note that not only do both `x` and `y` reference the same value, but the address of y now corresponds to the address of x! The assignement `y = x` binds `y` to the memory location that `x` is currently bound to. Note that if we now reassign the variable `x`, or in other words bind the name `x` to a different location in memory, then `y` remains bound to the same location."
   ]
  },
  {
   "cell_type": "code",
   "execution_count": 21,
   "metadata": {},
   "outputs": [
    {
     "name": "stdout",
     "output_type": "stream",
     "text": [
      "140385013376464 140385013376720\n"
     ]
    },
    {
     "data": {
      "text/plain": [
       "(140385013376752, 140385013376720)"
      ]
     },
     "execution_count": 21,
     "metadata": {},
     "output_type": "execute_result"
    }
   ],
   "source": [
    "print(id(x), id(y))\n",
    "x = 258\n",
    "id(x), id(y)"
   ]
  },
  {
   "cell_type": "markdown",
   "metadata": {},
   "source": [
    "## Mutable and immutable objects"
   ]
  },
  {
   "cell_type": "markdown",
   "metadata": {},
   "source": [
    "The behaviour of python variables becomes particularly important when working with mutable objects. Immutable objects are those that cannot be changed once they have been instantiated, examples include objects of type int, float, bool, string, unicode, and tuple (don't worry if you don't know what these are yet, they will be covered later in the course!). Mutable objects are those that can be changed during runtime, examples include objects of type list, dictionary and set. For mutable objects there are operations, referred to as mutations, that can change the object after it has been instantiated. Lists are perhaps the simplest mutable object, so lets assign a variable x to the list of numbers [1,2,3] and then assign another variable y to x."
   ]
  },
  {
   "cell_type": "code",
   "execution_count": 22,
   "metadata": {},
   "outputs": [
    {
     "data": {
      "text/plain": [
       "([1, 2, 3], [1, 2, 3])"
      ]
     },
     "execution_count": 22,
     "metadata": {},
     "output_type": "execute_result"
    }
   ],
   "source": [
    "x = [1,2,3]\n",
    "y = x\n",
    "y,x"
   ]
  },
  {
   "cell_type": "markdown",
   "metadata": {},
   "source": [
    "Lets now change the list, running the cell below we see that the mutation through the variable `x` also changes `y`."
   ]
  },
  {
   "cell_type": "code",
   "execution_count": 23,
   "metadata": {},
   "outputs": [
    {
     "data": {
      "text/plain": [
       "([1, 4, 3], [1, 4, 3])"
      ]
     },
     "execution_count": 23,
     "metadata": {},
     "output_type": "execute_result"
    }
   ],
   "source": [
    "x[1] = 4\n",
    "x,y"
   ]
  },
  {
   "cell_type": "markdown",
   "metadata": {},
   "source": [
    "The operation x[1]=4 is a mutation, and changes the underlying data at the address that x points to or is bound to. We have not reassigned y, it still points to same location, and therefore y now references this new object as well. The same effect is true if we mutate through `y`."
   ]
  },
  {
   "cell_type": "code",
   "execution_count": 25,
   "metadata": {},
   "outputs": [
    {
     "name": "stdout",
     "output_type": "stream",
     "text": [
      "[1, 2, 3] [1, 2, 3]\n",
      "[4, 2, 3] [4, 2, 3]\n"
     ]
    }
   ],
   "source": [
    "x = [1,2,3]\n",
    "y = x\n",
    "print(y,x)\n",
    "y[0] = 4\n",
    "print(y,x)"
   ]
  },
  {
   "cell_type": "markdown",
   "metadata": {},
   "source": [
    "If you want to assign y to x and then later change x without changing y then you can copy it. To copy a variable you need to import the copy library as shown below. Python allows two types of copy, a shallow copy and a deep copy, we won't go into these here but you can read https://docs.python.org/3/library/copy.html for further details."
   ]
  },
  {
   "cell_type": "code",
   "execution_count": 133,
   "metadata": {},
   "outputs": [
    {
     "data": {
      "text/plain": [
       "([1, 4, 3], [1, 2, 3])"
      ]
     },
     "execution_count": 133,
     "metadata": {},
     "output_type": "execute_result"
    }
   ],
   "source": [
    "import copy\n",
    "x = [1,2,3]\n",
    "y = copy.copy(x)\n",
    "x[1] = 4\n",
    "x,y"
   ]
  }
 ],
 "metadata": {
  "kernelspec": {
   "display_name": "Python [conda env:pytorch-env]",
   "language": "python",
   "name": "conda-env-pytorch-env-py"
  },
  "language_info": {
   "codemirror_mode": {
    "name": "ipython",
    "version": 3
   },
   "file_extension": ".py",
   "mimetype": "text/x-python",
   "name": "python",
   "nbconvert_exporter": "python",
   "pygments_lexer": "ipython3",
   "version": "3.6.2"
  }
 },
 "nbformat": 4,
 "nbformat_minor": 2
}
