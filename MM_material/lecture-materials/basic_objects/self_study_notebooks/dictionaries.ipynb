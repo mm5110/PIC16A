{
 "cells": [
  {
   "cell_type": "markdown",
   "metadata": {},
   "source": [
    "## Dictionaries\n",
    "\n",
    "Dictionaries (or `dict`s) are iterables, like lists, tuples, and sets. We've given them their own lecture notes because they are exceptionally useful and also somewhat more complicated than other common iterables. \n",
    "\n",
    "A `dict` is a **set** of key-value pairs, and is typically used to indicate a relationship between different types of objects. Like sets, `dict`s are enclosed in `{}` curly braces. A `:` colon separates keys from values, and key-value pairs are separated by commas. \n",
    "\n",
    "For example, here's a `dict` that assigns the commanding officer to each starship:"
   ]
  },
  {
   "cell_type": "code",
   "execution_count": null,
   "metadata": {
    "collapsed": true
   },
   "outputs": [],
   "source": [
    "animal_classes = {\n",
    "\"alligator\":\"reptile\",\n",
    "\"frog\":\"amphibian\",\n",
    "\"dog\":\"mammal\",\n",
    "\"eagle\":[1,2,3],\n",
    "}"
   ]
  },
  {
   "cell_type": "markdown",
   "metadata": {},
   "source": [
    "One can \"look up\" the class (value) of an animal in our dictionary by passing the name of the animal (item):"
   ]
  },
  {
   "cell_type": "code",
   "execution_count": null,
   "metadata": {
    "collapsed": true
   },
   "outputs": [],
   "source": [
    "animal_classes['eagle'] = 'bird'\n",
    "animal_classes['eagle']"
   ]
  },
  {
   "cell_type": "markdown",
   "metadata": {},
   "source": [
    "The *keys* of a dict should be immutable and distinct. The items can be mutable and non-distinct. Note that like sets dicts are themselves mutable."
   ]
  },
  {
   "cell_type": "code",
   "execution_count": null,
   "metadata": {
    "collapsed": true
   },
   "outputs": [],
   "source": [
    "# can't use mutable keys\n",
    "\n",
    "bad_one = {\n",
    "    [1,2,3]: \"list\"\n",
    "}"
   ]
  },
  {
   "cell_type": "code",
   "execution_count": null,
   "metadata": {
    "collapsed": true
   },
   "outputs": [],
   "source": [
    "# tuples are immutable, so this is ok, as are strings and numbers\n",
    "\n",
    "good_one = {\n",
    "    (1, 2, 3) : \"tuple\"\n",
    "}\n",
    "\n",
    "good_one[(1, 2)]\n"
   ]
  },
  {
   "cell_type": "code",
   "execution_count": null,
   "metadata": {
    "collapsed": true
   },
   "outputs": [],
   "source": [
    "# don't duplicate keys -- keys will be dropped. \n",
    "bad_two = {\n",
    "    \"key1\" : \"value1\",\n",
    "    \"key1\" : \"value2\"\n",
    "}\n",
    "bad_two"
   ]
  },
  {
   "cell_type": "markdown",
   "metadata": {},
   "source": [
    "In many cases, it's useful to build dictionaries incrementally, one key-value pair at a time:  "
   ]
  },
  {
   "cell_type": "code",
   "execution_count": 1,
   "metadata": {},
   "outputs": [
    {
     "data": {
      "text/plain": [
       "{'fly': 'insect', 'giraffe': 'mammal', 'toad': 'amphibian'}"
      ]
     },
     "execution_count": 1,
     "metadata": {},
     "output_type": "execute_result"
    }
   ],
   "source": [
    "a = {}\n",
    "\n",
    "a['toad'] = 'amphibian'\n",
    "a['giraffe'] = 'mammal'\n",
    "a['fly'] = 'insect'\n",
    "\n",
    "a"
   ]
  },
  {
   "cell_type": "markdown",
   "metadata": {},
   "source": [
    "## Dictionary Methods\n",
    "\n",
    "Dictionaries come with a number of useful methods (functions) for retrieving and manipulating their values. \n",
    "\n",
    "### Getting Data\n",
    "\n",
    "A common problem when working with `dict`s comes when we try to access a key that doesn't exist yet. "
   ]
  },
  {
   "cell_type": "code",
   "execution_count": null,
   "metadata": {
    "collapsed": true
   },
   "outputs": [],
   "source": [
    "a['hippo']\n",
    "# ---"
   ]
  },
  {
   "cell_type": "code",
   "execution_count": null,
   "metadata": {
    "collapsed": true
   },
   "outputs": [],
   "source": [
    "for key in ['toad', 'giraffe','hippo','fly']:\n",
    "    print(a[key])\n",
    "# ---"
   ]
  },
  {
   "cell_type": "markdown",
   "metadata": {},
   "source": [
    "Our entire code fails because we tried to access one nonexistent key. To avoid this, we can use the `get()` method, which allows us to specify a default value to return in case a key is not found. "
   ]
  },
  {
   "cell_type": "code",
   "execution_count": null,
   "metadata": {
    "collapsed": true
   },
   "outputs": [],
   "source": [
    "for key in ['toad', 'giraffe','hippo','fly']:\n",
    "    print(a.get(key, 'unknown'))\n",
    "# ---"
   ]
  },
  {
   "cell_type": "markdown",
   "metadata": {},
   "source": [
    "We can also get keys and values from a `dict`. These objects are returned as special `dict_keys` and `dict_values` objects, but they can easily be converted into sets or lists. "
   ]
  },
  {
   "cell_type": "code",
   "execution_count": 2,
   "metadata": {},
   "outputs": [
    {
     "data": {
      "text/plain": [
       "dict_keys(['toad', 'giraffe', 'fly'])"
      ]
     },
     "execution_count": 2,
     "metadata": {},
     "output_type": "execute_result"
    }
   ],
   "source": [
    "a.keys()"
   ]
  },
  {
   "cell_type": "code",
   "execution_count": null,
   "metadata": {
    "collapsed": true
   },
   "outputs": [],
   "source": [
    "set(a.keys())"
   ]
  },
  {
   "cell_type": "code",
   "execution_count": null,
   "metadata": {
    "collapsed": true
   },
   "outputs": [],
   "source": [
    "list(a.values())"
   ]
  },
  {
   "cell_type": "markdown",
   "metadata": {},
   "source": [
    "When iterating over key-value pairs, use the `items()` method: "
   ]
  },
  {
   "cell_type": "code",
   "execution_count": null,
   "metadata": {
    "collapsed": true
   },
   "outputs": [],
   "source": [
    "for key, val in a.items():\n",
    "    print(key + \" is \" + val)\n",
    "# ---"
   ]
  },
  {
   "cell_type": "markdown",
   "metadata": {},
   "source": [
    "### Modifying Dicts"
   ]
  },
  {
   "cell_type": "markdown",
   "metadata": {},
   "source": [
    "To remove keys from a `dict`, use the `pop()` method. This method returns the value associated to the supplied key, and then removes both from the `dict`. "
   ]
  },
  {
   "cell_type": "code",
   "execution_count": null,
   "metadata": {
    "collapsed": true
   },
   "outputs": [],
   "source": [
    "a.pop(\"toad\")"
   ]
  },
  {
   "cell_type": "code",
   "execution_count": null,
   "metadata": {
    "collapsed": true
   },
   "outputs": [],
   "source": [
    "a"
   ]
  },
  {
   "cell_type": "markdown",
   "metadata": {},
   "source": [
    "To \"fuse\" two dicts, use `update()`:"
   ]
  },
  {
   "cell_type": "code",
   "execution_count": null,
   "metadata": {
    "collapsed": true
   },
   "outputs": [],
   "source": [
    "a.update({\"rhino\" : \"mammal\", \"iguana\" : \"reptile\"})\n",
    "a"
   ]
  },
  {
   "cell_type": "markdown",
   "metadata": {},
   "source": [
    "If any keys supplied to `update()` are already present, the old values will be overwritten: "
   ]
  },
  {
   "cell_type": "code",
   "execution_count": null,
   "metadata": {
    "collapsed": true
   },
   "outputs": [],
   "source": [
    "a.update({\"iguana\" : \"lizard\"})\n",
    "a"
   ]
  },
  {
   "cell_type": "code",
   "execution_count": null,
   "metadata": {
    "collapsed": true
   },
   "outputs": [],
   "source": []
  }
 ],
 "metadata": {
  "kernelspec": {
   "display_name": "Python [default]",
   "language": "python",
   "name": "python3"
  },
  "language_info": {
   "codemirror_mode": {
    "name": "ipython",
    "version": 3
   },
   "file_extension": ".py",
   "mimetype": "text/x-python",
   "name": "python",
   "nbconvert_exporter": "python",
   "pygments_lexer": "ipython3",
   "version": "3.6.2"
  }
 },
 "nbformat": 4,
 "nbformat_minor": 4
}
