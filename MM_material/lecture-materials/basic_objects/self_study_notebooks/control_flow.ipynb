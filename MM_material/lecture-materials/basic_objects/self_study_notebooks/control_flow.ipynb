{
 "cells": [
  {
   "cell_type": "markdown",
   "metadata": {},
   "source": [
    "# More Control Flow\n",
    "In \"For-Loops and Comprehensions,\" we introduced the for-loop -- the simplest way to iterate through data. In this lecture, we'll add `while` loops for iteration, as well as `if` statements for conditional branching. \n",
    "\n",
    "1. Iteration (repeating an operation)\n",
    "2. Branching (performing different operations depending on conditions)\n",
    "\n",
    "We'll move quickly through this material, since these concepts should be familiar from your experience with PIC10A -- only the syntax changes. \n",
    "\n",
    "Two important pieces of syntax: \n",
    "\n",
    "1. The declaration of both loops and conditionals must end with a colon `:`. \n",
    "2. **Whitespace matters.** The body of a loop or branching statement **must be indented**, else Python will throw a syntax error. "
   ]
  },
  {
   "cell_type": "markdown",
   "metadata": {},
   "source": [
    "## Iteration with While-Loops\n",
    "\n",
    "A *while-loop* will repeat a given sequence of commands as long as a boolean (logical) condition evaluates to `True`. The first time that the condition evaluates to `False` the while loop will halt and no more iterations will take place. The primary application of while-loops is to iterate when you are not sure how many iterations are required. \n",
    "\n",
    "Unlike for-loops, it is necessary to initialize the variable of iteration prior to beginning the loop. \n",
    "\n",
    "Make sure that the loop will indeed terminate! "
   ]
  },
  {
   "cell_type": "code",
   "execution_count": 1,
   "metadata": {},
   "outputs": [
    {
     "data": {
      "text/plain": [
       "6"
      ]
     },
     "execution_count": 1,
     "metadata": {},
     "output_type": "execute_result"
    }
   ],
   "source": [
    "done = False\n",
    "i    = 1\n",
    "\n",
    "while not done:\n",
    "    i   += 1\n",
    "    done = i > 5\n",
    "\n",
    "i"
   ]
  },
  {
   "cell_type": "markdown",
   "metadata": {},
   "source": [
    "The above example could be implemented using a for loop. An example of a problem which we can't use a for loop for as we can't predict with absolute certainty how many iterations we will need is simulating a sequence of toin cosses. In particular consider counting the number of coin tosses required before seeing tails."
   ]
  },
  {
   "cell_type": "code",
   "execution_count": null,
   "metadata": {
    "collapsed": true
   },
   "outputs": [],
   "source": [
    "# While loops are useful when we don't know how many iterations we need! Example: simulating a coin flip\n",
    "import numpy as np # Don't worry about this for now! We'll cover numpy in later tutorials\n",
    "\n",
    "# coin = 1 is heads, coin = 0 represents tails\n",
    "coin = 1\n",
    "num_flips = 0\n",
    "\n",
    "while coin == 1:\n",
    "    coin = np.random.choice([0,1]) # This line simulates a single coin toss\n",
    "    num_flips +=1\n",
    "\n",
    "num_flips # Counts how many tosses we need before seeing tails!\n",
    "    "
   ]
  },
  {
   "cell_type": "markdown",
   "metadata": {},
   "source": [
    "Remember also that the full body of the loop executes *after* checking the condition. For example, consider the following attempt to find the largest power of 3 less than 10,000:"
   ]
  },
  {
   "cell_type": "code",
   "execution_count": 5,
   "metadata": {},
   "outputs": [
    {
     "data": {
      "text/plain": [
       "19683"
      ]
     },
     "execution_count": 5,
     "metadata": {},
     "output_type": "execute_result"
    }
   ],
   "source": [
    "# largest power of 3 less than 10,000 -- failed\n",
    "\n",
    "n = 1\n",
    "\n",
    "while (3**n < 1e4):\n",
    "    n+=1\n",
    "    \n",
    "3**n\n",
    "# oops!"
   ]
  },
  {
   "cell_type": "markdown",
   "metadata": {},
   "source": [
    "This function fails because the multiplication occurs after the condition `x < 1e5` is checked. So, instead we have to look ahead to the next iterate: "
   ]
  },
  {
   "cell_type": "code",
   "execution_count": 6,
   "metadata": {},
   "outputs": [
    {
     "data": {
      "text/plain": [
       "6561"
      ]
     },
     "execution_count": 6,
     "metadata": {},
     "output_type": "execute_result"
    }
   ],
   "source": [
    "# largest power of 3 less than 10,000\n",
    "\n",
    "n = 1\n",
    "\n",
    "while (3**(n+1) < 1e4):\n",
    "    n+=1\n",
    "    \n",
    "3**n"
   ]
  },
  {
   "cell_type": "markdown",
   "metadata": {},
   "source": [
    "## Branching with If-Statements\n",
    "\n",
    "If-statements allow you to perform different blocks of code based on logical tests. Any expression that evaluates to `True` or `False` (i.e. a boolean) can be used. Some useful examples of boolean expressions. "
   ]
  },
  {
   "cell_type": "code",
   "execution_count": 4,
   "metadata": {},
   "outputs": [
    {
     "data": {
      "text/plain": [
       "True"
      ]
     },
     "execution_count": 4,
     "metadata": {},
     "output_type": "execute_result"
    }
   ],
   "source": [
    "\"Janeway\" in [\"Kirk\", \"Janeway\", \"Picard\"]"
   ]
  },
  {
   "cell_type": "code",
   "execution_count": 5,
   "metadata": {},
   "outputs": [
    {
     "data": {
      "text/plain": [
       "True"
      ]
     },
     "execution_count": 5,
     "metadata": {},
     "output_type": "execute_result"
    }
   ],
   "source": [
    "2 >= 1"
   ]
  },
  {
   "cell_type": "code",
   "execution_count": 1,
   "metadata": {},
   "outputs": [
    {
     "data": {
      "text/plain": [
       "True"
      ]
     },
     "execution_count": 1,
     "metadata": {},
     "output_type": "execute_result"
    }
   ],
   "source": [
    "# boolean and\n",
    "(2 >= 1) and (2 <= 4) "
   ]
  },
  {
   "cell_type": "code",
   "execution_count": 2,
   "metadata": {},
   "outputs": [
    {
     "data": {
      "text/plain": [
       "True"
      ]
     },
     "execution_count": 2,
     "metadata": {},
     "output_type": "execute_result"
    }
   ],
   "source": [
    "# boolean or\n",
    "(2 >= 1) or (2 <= 0)"
   ]
  },
  {
   "cell_type": "markdown",
   "metadata": {},
   "source": [
    "Now we can try an example of if-statements. "
   ]
  },
  {
   "cell_type": "code",
   "execution_count": 8,
   "metadata": {},
   "outputs": [
    {
     "name": "stdout",
     "output_type": "stream",
     "text": [
      "x is a positive number\n"
     ]
    }
   ],
   "source": [
    "x = 1\n",
    "if x < 0:\n",
    "    print(\"x is a negative number\")\n",
    "elif x == 0:\n",
    "    print(\"x is zero\")\n",
    "else:\n",
    "    print(\"x is a positive number\")\n",
    "# ---"
   ]
  },
  {
   "cell_type": "markdown",
   "metadata": {},
   "source": [
    "Branching is often particularly powerful within loops. "
   ]
  },
  {
   "cell_type": "code",
   "execution_count": 9,
   "metadata": {},
   "outputs": [
    {
     "name": "stdout",
     "output_type": "stream",
     "text": [
      "1\n",
      "3\n",
      "5\n",
      "7\n",
      "9\n"
     ]
    }
   ],
   "source": [
    "# print odd numbers 1-9\n",
    "\n",
    "for i in range(10):\n",
    "    if i % 2 == 1:\n",
    "        print(i)\n",
    "# ---"
   ]
  },
  {
   "cell_type": "markdown",
   "metadata": {},
   "source": [
    "## `break` and `continue`\n",
    "\n",
    "Having equipped ourselves with `if` statements, we can now explore two additional constructs for use in `while` loops: `break` and `continue`. Roughly spearking, `break` can be used to halt an entire `while` loop, while `continue` can be used to halt a single iteration and move on to the next one. \n",
    "\n",
    "<figure class=\"image\" style=\"width:50%\">\n",
    "  <img src=\"https://files.realpython.com/media/t.899f357dd948.png\" alt=\"A schematic while-loop with a placeholder body, followed by a statement outside the loop. The body includes lines for break and continue. The break line has an arrow pointing to the external statement below the loop, while the continue line has an arrow pointing to the while expression.\">\n",
    "  <figcaption><i>Schematic working of break and continue.</i></figcaption>\n",
    "</figure>"
   ]
  },
  {
   "cell_type": "markdown",
   "metadata": {},
   "source": [
    "Lets consider the following piece of code which seeks to ascertain whether or not a number is prime (recall a prime number is a natural number that cannot be expressed as a product of two natural numbers each larger than one and smaller than itself). As a single counterexample suffices we can stop testing as soon as we find the first number that our input is divisible by, this saves a lot of computational effort potentially!"
   ]
  },
  {
   "cell_type": "code",
   "execution_count": 27,
   "metadata": {},
   "outputs": [
    {
     "name": "stdout",
     "output_type": "stream",
     "text": [
      "2021 is prime: False\n"
     ]
    }
   ],
   "source": [
    "x = int(2021) # The number we want whether or not it is prime, try running with a few different values!\n",
    "               # Note that if you choose a large odd natural number this cell may take a while to run...\n",
    "\n",
    "# Use an if statement to check that x is in fact a natural number larger than 1!   \n",
    "if type(x) != int or x <= 1:\n",
    "    print('x is not a natural number larger than 1! Try a different value')\n",
    "\n",
    "# If x is a natural number larger than 1 then we proceed\n",
    "else:\n",
    "    x_prime = True # Initialise x_prime as True, i.e., we will assume x is true unless we can find a counterexample!\n",
    "    y = x//2 # Largest natural number we might need to check is a factor is y as 2*y>= x!\n",
    "    i=2\n",
    "    while i<=y:\n",
    "        if x%i==0: # Check if x is divisible by i\n",
    "            x_prime = False # If so then x is not prime!\n",
    "            break # We have a counterexample so we no longer need to check the other naturals up to y!\n",
    "        i+=1\n",
    "    print(str(x) + \" is prime: \" + str(x_prime))"
   ]
  },
  {
   "cell_type": "markdown",
   "metadata": {},
   "source": [
    "Suppose now that we want to print out every natural number less than 100 which is divisible by both 2 and 7."
   ]
  },
  {
   "cell_type": "code",
   "execution_count": 23,
   "metadata": {},
   "outputs": [
    {
     "name": "stdout",
     "output_type": "stream",
     "text": [
      "14\n",
      "28\n",
      "42\n",
      "56\n",
      "70\n",
      "84\n",
      "98\n"
     ]
    }
   ],
   "source": [
    "i = 1\n",
    "while i <= 100:\n",
    "    i+=1\n",
    "    if i % 2 != 0:\n",
    "        continue\n",
    "    if i% 7 == 0:\n",
    "        print(i)\n",
    "# ---"
   ]
  },
  {
   "cell_type": "markdown",
   "metadata": {},
   "source": [
    "While we were able to use `break` and `continue` in these examples, one can usually achieve the same results by adjusting the logical statements of any while loops and or if statements involved. Furthermore, analysing and debugging long, complicated pieces of code which use `break` and `continue` statements can often be more challenging than those which achieve the same result through logical conditions. Therefore use them carefully! Here is how you could write the same programs without using `break` and `continue`."
   ]
  },
  {
   "cell_type": "code",
   "execution_count": 28,
   "metadata": {},
   "outputs": [
    {
     "name": "stdout",
     "output_type": "stream",
     "text": [
      "2021 is prime: False\n"
     ]
    }
   ],
   "source": [
    "x = int(2021) # The number we want whether or not it is prime, try running with a few different values!\n",
    "               # Note that if you choose a large odd natural number this cell may take a while to run...\n",
    "\n",
    "# Use an if statement to check that x is in fact a natural number larger than 1!   \n",
    "if type(x) != int or x <= 1:\n",
    "    print('x is not a natural number larger than 1! Try a different value')\n",
    "\n",
    "# If x is a natural number larger than 1 then we proceed\n",
    "else:\n",
    "    x_prime = True # Initialise x_prime as True, i.e., we will assume x is true unless we can find a counterexample!\n",
    "    y = x//2 # Largest natural number we might need to check is a factor is y as 2*y>= x!\n",
    "    i=2\n",
    "    while i<=y and x_prime is True:\n",
    "        if x%i==0: # Check if x is divisible by i\n",
    "            x_prime = False # If so then x is not prime!\n",
    "        i+=1\n",
    "    print(str(x) + \" is prime: \" + str(x_prime))"
   ]
  },
  {
   "cell_type": "code",
   "execution_count": 30,
   "metadata": {},
   "outputs": [
    {
     "name": "stdout",
     "output_type": "stream",
     "text": [
      "14\n",
      "28\n",
      "42\n",
      "56\n",
      "70\n",
      "84\n",
      "98\n"
     ]
    }
   ],
   "source": [
    "i = 1\n",
    "while i <= 100:\n",
    "    i+=1\n",
    "    if i % 2 == 0 and i%7 == 0:\n",
    "        print(i)\n",
    "# ---"
   ]
  }
 ],
 "metadata": {
  "kernelspec": {
   "display_name": "Python [conda env:pytorch-env]",
   "language": "python",
   "name": "conda-env-pytorch-env-py"
  },
  "language_info": {
   "codemirror_mode": {
    "name": "ipython",
    "version": 3
   },
   "file_extension": ".py",
   "mimetype": "text/x-python",
   "name": "python",
   "nbconvert_exporter": "python",
   "pygments_lexer": "ipython3",
   "version": "3.6.2"
  }
 },
 "nbformat": 4,
 "nbformat_minor": 4
}
