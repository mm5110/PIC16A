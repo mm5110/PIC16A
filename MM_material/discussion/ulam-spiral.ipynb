{
 "cells": [
  {
   "cell_type": "markdown",
   "metadata": {},
   "source": [
    "# Discussion Activity: Ulam Spirals\n",
    "\n",
    "### Group Members and Roles\n",
    "\n",
    "- Group Member 1 (Role)\n",
    "- Group Member 2 (Role)\n",
    "- Group Member 3 (Role)\n",
    "\n",
    "## Introduction\n",
    "\n",
    "An Ulam spiral is a graphical depiction of the set of prime numbers with intriguing geometrical patterns. This depiction was created by the famous mathematician Stanisław Ulam. Ulam is better known for several of his other creations, including the design of the hydrogen bomb and the invention of Monte Carlo methods for simulating stochastic (random) processes. \n",
    "\n",
    "To create an Ulam spiral, start by arranging the integers in spiral grid: <br><br>\n",
    "\n",
    "<figure class=\"image\" style=\"width:30%\">\n",
    "  <img src=\"https://upload.wikimedia.org/wikipedia/commons/thumb/1/1d/Ulam_spiral_howto_all_numbers.svg/1024px-Ulam_spiral_howto_all_numbers.svg.png\" alt=\"The integers 1 through 49 arranged in a spiral, with 1 at the center, 2 immediately to the right of 1, 3 above 2, 4 to the right of 3 (above 1), and so on.\">\n",
    "  <figcaption><i>Spiral arrangement of the integers. Image credit: Wikipedia.</i></figcaption>\n",
    "</figure>\n",
    "\n",
    "Then, color all the cells with prime numbers in black, and all the cells with composite numbers in white. Here's the result for a large grid: <br> <br> \n",
    "\n",
    "<figure class=\"image\" style=\"width:50%\">\n",
    "  <img src=\"https://upload.wikimedia.org/wikipedia/commons/6/69/Ulam_1.png\" alt=\"A 200x200 grid in which dots corresponding to prime numbers are colored black. There are several diagonal and vertical lines with high densities of black dots.\">\n",
    "  <figcaption><i>A 200x200 Ulam spiral. Image credit: Wikipedia.</i></figcaption>\n",
    "</figure>\n",
    "\n",
    "Note several diagonal and vertical lines with high densities of black dots. These geometrical structures remain only partially understood, and are connected to several important open problems in the theory of the prime numbers. \n",
    "\n",
    "## What We'll Do\n",
    "\n",
    "Last week, we wrote a variety of functions that can be used for checking prime numbers. So, to make an Ulam spiral, it remains only to find a way to iterate over a grid in the \"spiral\" shape you see above. For this, we'll use a *generator*, one of our fancy new iteration tools. We'll be able to use our generator, called `spiral`, like the below. In this example, we suppose that the grid is of size `5x5`. \n",
    "\n",
    "```python\n",
    "for i, j, k in spiral(5):\n",
    "    print(i,j,k)\n",
    "    \n",
    "    2 2 1\n",
    "    3 2 2\n",
    "    3 1 3\n",
    "    2 1 4\n",
    "    1 1 5\n",
    "    #...\n",
    "```\n",
    "The first two numbers give the **coordinates** of a square, while the third number gives the integer corresponding to that square. For example, the number `1` corresponds to `(2,2)`, the number `4` corresponds to `(2,1)`, and so on. \n",
    "\n",
    "We start at `(2,2)` because this is the middle of a `5x5` grid. \n",
    "\n",
    "Take a moment to compare to the first diagram to convince yourself that this generator is doing what you would expect. "
   ]
  },
  {
   "cell_type": "markdown",
   "metadata": {},
   "source": [
    "### Part (A)\n",
    "\n",
    "Create a grid `G`, represented as a list of `n` lists, each of which contains `n` entries equal to `0`. This can be done in a single line using a double list comprehension. Start with `n = 5`. \n",
    "\n",
    "#### Your solution"
   ]
  },
  {
   "cell_type": "code",
   "execution_count": null,
   "metadata": {},
   "outputs": [],
   "source": [
    "n = 5\n",
    "# list comprehension here\n"
   ]
  },
  {
   "cell_type": "markdown",
   "metadata": {},
   "source": [
    "### Part (B)\n",
    "\n",
    "We are now going to implement the `spiral()` generator. If you investigate the first diagram in this assignment, you'll observe that, after starting in the middle, \n",
    "\n",
    "1. We take **one** step right, then turn left (so now we are facing up). We take **one** step up, then turn left again (so now we are facing left). \n",
    "2. Then, we take **two** steps left, then turn left (so now we are facing down). We then take **two** steps down, then turn left (so now we are facing right). \n",
    "3. Then, we take **three** steps...\n",
    "\n",
    "Here's a diagram illustrating our approach. The first pair of grey lines are both one unit in length; the next pair of red lines are both two units in length; the third pair of orange lines are three units in length; and so on. \n",
    "\n",
    "<figure class=\"image\" style=\"width:30%\">\n",
    "  <img src=\"https://raw.githubusercontent.com/PhilChodrow/PIC16A/master/discussion/spiral-diagram.png\" alt=\"A 200x200 grid in which dots corresponding to prime numbers are colored black. There are several diagonal and vertical lines with high densities of black dots.\">\n",
    "  <figcaption><i>A colorized indication of our strategy.</i></figcaption>\n",
    "</figure>\n",
    "\n",
    "So, our approach is to implement this behavior. \n",
    "\n",
    "1. `spiral()` should accept a single argument `n`, an odd integer. Check that `n` is an integer, and raise a `TypeError` if not. Then, check that `n` is *odd*, and raise a `ValueError` if not. \n",
    "1. Start with a variable  `pos = (m,m)`, where `m = int((n-1)/2)` is the midpoint of the grid. Additionally, initialize a variable `k = 1` to log the current integer, and a `direction` tuple with `(0,1)` indicating the direction we are facing. Finally, initialize a `length` variable with value `1`. \n",
    "2. **Main loop:**\n",
    "    1. As long as `k <= n**2 - 1`\n",
    "        1. Do the following twice (that is, do i and ii, then do i and ii again). *Don't write the same code twice!* \n",
    "            1. Take a number of steps equal to `length`. In a step, we add the current `direction` to the current position `pos` entrywise. \n",
    "            In order to update the tuple `pos`, you will need to do something like this: \n",
    "            `pos = pos[0] + direction[0], pos[1] + direction[1]`. \n",
    "            **Before each step**, if `k <= n**2 - 1`, yield `(pos[0], pos[1], k)`, then increment `k` by one. \n",
    "            2. Change direction by making a left turn. You can do so by replacing `direction` with its value in the supplied `left_turns` dictionary. \n",
    "        2. Increment length by 1. \n",
    "\n",
    "This is the \"main part\" of the activity, so it's ok to spend some extra time here. \n",
    "\n",
    "***Hint***: *The following dictionary might help you make left turns.*\n",
    "\n",
    "```python\n",
    "left_turns = {\n",
    "    ( 1,  0) : ( 0,  1),\n",
    "    ( 0,  1) : (-1,  0),\n",
    "    (-1,  0) : ( 0, -1),\n",
    "    ( 0, -1) : ( 1,  0)\n",
    "}\n",
    "```\n",
    "\n",
    "\n",
    "\n",
    "\n",
    "\n",
    "#### Your solution"
   ]
  },
  {
   "cell_type": "code",
   "execution_count": null,
   "metadata": {},
   "outputs": [],
   "source": [
    "def spiral(n):\n",
    "    \n",
    "    # Step 1:\n",
    "    #   check that n is an integer, and raise a TypeError if not. \n",
    "    \n",
    "    #   if the user supplies an even value of n, raise an informative ValueError. \n",
    "    \n",
    "    # Step 2: \n",
    "    #   initialize variables described in instructions above. \n",
    "    \n",
    "    # Step 3: \n",
    "    #   main loop, refer to instructions above. \n",
    "    "
   ]
  },
  {
   "cell_type": "markdown",
   "metadata": {},
   "source": [
    "### Part (C)\n",
    "\n",
    "Check your code by running (`shift + enter`) the following lines. When your code is correct, you'll see a spiral from 1-25 that matches the diagram at the beginning of the activity, like this (the spacing won't exactly match, that's ok!).  \n",
    "\n",
    "```\n",
    "[[17, 16, 15, 14, 13],\n",
    " [18,  5,  4,  3, 12],\n",
    " [19,  6,  1,  2, 11],\n",
    " [20,  7,  8,  9, 10],\n",
    " [21, 22, 23, 24, 25]]\n",
    "```\n"
   ]
  },
  {
   "cell_type": "code",
   "execution_count": null,
   "metadata": {},
   "outputs": [],
   "source": [
    "for i, j, k  in spiral(n):\n",
    "    G[i][j] = k\n",
    "    print(i, j, k) # use this to see what your code is doing at each step, comment out as desired\n",
    "G"
   ]
  },
  {
   "cell_type": "markdown",
   "metadata": {},
   "source": [
    "### Part (D)\n",
    "\n",
    "Here's the solution code for one of our prime number checkers from last week. Run this code. Yes, all you need to do for this part is `shift + enter`. "
   ]
  },
  {
   "cell_type": "code",
   "execution_count": null,
   "metadata": {},
   "outputs": [],
   "source": [
    "import math\n",
    "def primes_up_to(n):\n",
    "    \"\"\"\n",
    "    n: a positive integer\n",
    "    returns: a list containing all primes no larger than n\n",
    "    \"\"\"\n",
    "    \n",
    "    # initialize list of primes\n",
    "    primes = [2, 3]\n",
    "    \n",
    "    # for numbers up to n\n",
    "    for i in range(2, n):\n",
    "        i_is_prime = True\n",
    "        \n",
    "        # compute upper bound on what we need to check\n",
    "        k = round(math.sqrt(i) + 1)\n",
    "        j = 0\n",
    "        \n",
    "        # look for divisors\n",
    "        while primes[j] < k:\n",
    "            if i % primes[j] == 0:\n",
    "                i_is_prime = False\n",
    "            j += 1\n",
    "            \n",
    "        # if none found, add i to list of primes\n",
    "        if i_is_prime:\n",
    "            primes.append(i)\n",
    "    return primes"
   ]
  },
  {
   "cell_type": "markdown",
   "metadata": {},
   "source": [
    "### Part (E) \n",
    "\n",
    "Create a new grid `G` like you did in Part (A), this time using `n = 101`. Then, compute all primes up size `n**2`. To complete this part, it is sufficient to run the block below. "
   ]
  },
  {
   "cell_type": "code",
   "execution_count": null,
   "metadata": {},
   "outputs": [],
   "source": [
    "# run this block -- don't modify\n",
    "n = 101\n",
    "primes = primes_up_to(n**2)\n",
    "G = [[0 for i in range(n)] for j in range(n)]"
   ]
  },
  {
   "cell_type": "markdown",
   "metadata": {},
   "source": [
    "Then, iterate through the grid using the `spiral` generator. You should mark a `1` in the cell corresponding to `k` if `k` is prime. Keep the cell as `0` if `k` is not prime.  The code should look similar in some ways to the code from Part C. However, you should check whether `k` is prime (i.e. in the list `primes`) before filling in the corresponding cell of `G`. \n",
    "\n",
    "#### Your solution"
   ]
  },
  {
   "cell_type": "code",
   "execution_count": null,
   "metadata": {},
   "outputs": [],
   "source": [
    "\n"
   ]
  },
  {
   "cell_type": "markdown",
   "metadata": {},
   "source": [
    "Finally, plot the result by running (`shift + enter`) the following code block. "
   ]
  },
  {
   "cell_type": "code",
   "execution_count": null,
   "metadata": {},
   "outputs": [],
   "source": [
    "from matplotlib import pyplot as plt\n",
    "plt.imshow(G, cmap = \"Greys\", vmin = 0, interpolation = \"none\")\n",
    "plt.gca().axis('off')"
   ]
  }
 ],
 "metadata": {
  "kernelspec": {
   "display_name": "Python 3",
   "language": "python",
   "name": "python3"
  },
  "language_info": {
   "codemirror_mode": {
    "name": "ipython",
    "version": 3
   },
   "file_extension": ".py",
   "mimetype": "text/x-python",
   "name": "python",
   "nbconvert_exporter": "python",
   "pygments_lexer": "ipython3",
   "version": "3.8.3"
  }
 },
 "nbformat": 4,
 "nbformat_minor": 4
}
