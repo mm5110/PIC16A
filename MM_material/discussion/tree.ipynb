{
 "cells": [
  {
   "cell_type": "markdown",
   "metadata": {},
   "source": [
    "# Binary search trees"
   ]
  },
  {
   "attachments": {
    "tree.png": {
     "image/png": "[encoded data removed]"
    }
   },
   "cell_type": "markdown",
   "metadata": {},
   "source": [
    "### Group Members and Roles\n",
    "\n",
    "- Group Member 1 (Role)\n",
    "- Group Member 2 (Role)\n",
    "- Group Member 3 (Role)\n",
    "\n",
    "# Introduction\n",
    "\n",
    "In this activity, we'll create a Python implementation of *binary search trees* using object-oriented programming and recursion. A binary search tree is a structure that looks like this: \n",
    "\n",
    "![tree.png](attachment:tree.png)"
   ]
  },
  {
   "cell_type": "markdown",
   "metadata": {},
   "source": [
    "The tree has a *root* (whose value in the example is 8). Each node starting with the root splits into at most two other nodes (called its *children*). The nodes are labeled with numbers or other values.\n",
    "\n",
    "Like in family trees, children of children, children of children of children, and so on, are called *descendants*. In the picture, 14 and 13 are descendants of 10; and 1, 6, 4, 7 are descendants of 3. Every node except the root is a descendant of the root.\n",
    "\n",
    "__Binary search trees have to satisfy one rule.__ The value of any given node has to be larger than the left child and its descendants, and smaller than the right child and its descendants. If you check the picture, you will see this rule is observed: e.g. all nodes to the left of the root are smaller than 8, and all nodes to the right are bigger. Furthermore, this is true for every node, not just the root. \n",
    "\n",
    "To look for a value inside the tree, you start at the root and go either left or right. At each step, you eliminate roughly half of the possibilities, provided that the tree is balanced (that is, not too lopsided). The point is that this is very fast, and in a specific technical sense it is provably the fastest possible way to locate a value in sorted data. (Take PIC 10B if you want to hear about time complexity of algorithms.) For this reason, many data structures use binary search trees under the hood."
   ]
  },
  {
   "cell_type": "markdown",
   "metadata": {},
   "source": [
    "## §1. Start the `Tree` class\n",
    "\n",
    "We will implement a simple `Tree` class with at least some functionality, all in the code cell below. Start by declaring the class and writing only the keyword `pass` inside to tell the interpreter that the class is empty. (You can't leave empty blocks in Python, so it's good practice to write `pass` to keep the code well-formed. Remove `pass` when you add code to the class.)"
   ]
  },
  {
   "cell_type": "code",
   "execution_count": null,
   "metadata": {},
   "outputs": [],
   "source": [
    "# write your Tree class here\n"
   ]
  },
  {
   "cell_type": "markdown",
   "metadata": {},
   "source": [
    "Next, add an `__init__()` method that takes a value and assigns it to the `value` instance variable. Also initialize instance variables `left` and `right` inside this function with the value `None`. Write this code (and future modifications to your class directly in the code cell above -- no need for copy/paste. \n",
    "\n",
    "`None` is a Python keyword like `True` and `False` that means exactly what it says -- no value. It evaluates to `False` if you cast it to a boolean (so e.g. if `v` is `None`, and you write `if v:`, the block will not execute)."
   ]
  },
  {
   "cell_type": "markdown",
   "metadata": {},
   "source": [
    "We wrote the following diagram function to help you see your tree. First add this function to your class:\n",
    "```python\n",
    "    def diagram(self, upper=(), lower=(), flip=True):\n",
    "        def propagate(child, pipes, up, flip):\n",
    "            if child: child.diagram(pipes + (not up,), pipes + (up,), flip)\n",
    "        propagate(self.right if flip else self.left, upper, True, flip)\n",
    "        for pipe in upper[:-1]:\n",
    "            print((\"|\" if pipe else \" \") + \"   \", end=\"\")\n",
    "        for pipe in upper[-1:]:\n",
    "            print(\"+-- \", end=\"\")\n",
    "        print(self.value)\n",
    "        propagate(self.left if flip else self.right, lower, False, flip)\n",
    "```\n",
    "Don't worry about understanding the function definition for now -- just copy and paste it into your definition (be careful with indentation). \n",
    "\n",
    "Your `Tree` class should now have an `__init__()` method and a `diagram()` method. "
   ]
  },
  {
   "cell_type": "markdown",
   "metadata": {},
   "source": [
    "## §2. Make a Tree with Recursion\n",
    "\n",
    "\n",
    "### Strategy\n",
    "\n",
    "**Recursion** is a fundamental idea in computer programming. Broadly, recursion refers to the idea of repeatedly performing some computation on progressively simpler parts of a problem. While it's possible to use loops to search through binary search trees, recursion is a much simpler method that is easier to read and write. Going back to the example binary search tree from the top of this worksheet, the big insight is that, each time we follow one of the branches, we are *again* at the root of a (new, smaller) binary search tree: \n",
    "\n",
    "<figure class=\"image\" style=\"width:80%\">\n",
    "  <img src=\"https://raw.githubusercontent.com/PhilChodrow/PIC16A/master/discussion/search_tree_example.png\" alt=\"\">\n",
    "  <figcaption><i>The purple and yellow boxes both contain binary search trees, rooted at 3 and 6, respectively.</i></figcaption>\n",
    "</figure>\n",
    "\n",
    "This structure means that, if we figure out how to search \"one level deeper\" in a tree, we'll essentially have solved the entire search problem. Furthermore, this also means that we can *construct* trees by nesting them inside each other. That is, each node can contain instance variables `left` and `right`, *which are themselves trees.* \n",
    "\n",
    "\n",
    "<figure class=\"image\" style=\"width:50%\">\n",
    "  <img src=\"https://raw.githubusercontent.com/PhilChodrow/PIC16A/master/_images/nested_trees.jpg\" alt=\"\">\n",
    "  <figcaption><i>Our implementation strategy for binary search trees.</i></figcaption>\n",
    "</figure>\n",
    "\n",
    "### Example\n",
    "\n",
    "Let's see this in action. Run the following cell. Note that, as advertised, we are creating trees as instance variables inside other trees. So, for example, `tree.left` and `tree.right` are also trees -- they are the *subtrees* of all descendants of the left and the right  `tree.left.right` refers to a tree at depth level 2, and so on.  \n",
    "\n",
    "**Note:** The numbers supplied as arguments to each `Tree` object represent the root node of the tree. At the moment, we haven't done anything to enforce the required binary search tree structure, but we'll do that in the next part. "
   ]
  },
  {
   "cell_type": "code",
   "execution_count": null,
   "metadata": {},
   "outputs": [],
   "source": [
    "tree = Tree(8)\n",
    "tree.left = Tree(3)\n",
    "tree.right = Tree(10)\n",
    "tree.left.left = Tree(1)\n",
    "tree.left.right = Tree(6)\n",
    "tree.right.right = Tree(14)\n",
    "tree.left.right.left = Tree(4)\n",
    "tree.left.right.right = Tree(7)\n",
    "tree.right.right.left = Tree(13)\n",
    "tree.diagram()"
   ]
  },
  {
   "cell_type": "markdown",
   "metadata": {},
   "source": [
    "You should see a horizontally oriented diagram of the same tree as at the top of the page. If you don't see that, you may have made an error in your class definition -- recheck your code and ask for help if needed. "
   ]
  },
  {
   "cell_type": "markdown",
   "metadata": {},
   "source": [
    "## §3. `insert`ing Values"
   ]
  },
  {
   "cell_type": "markdown",
   "metadata": {},
   "source": [
    "Use the skeleton in the next cell to add an `insert` function to your `Tree` class. The function should take a number and add it to the correct location in the tree. Don't try to move any of the existing nodes around -- it is always possible to add a value without rearranging the tree. \n",
    "\n",
    "**Hint**: Let's say we are trying to add a value smaller than the root; then we know we need to send it to the left. If there is no left subtree, we must make one with the provided value, and add it on the left. Otherwise there is a left subtree; but then it has its own `insert` function, which we just call to pass the value along. This is the power of recursion! We've given you the needed code for one of the cases. First, talk with your group about why this works. Then, see if you can figure out the other three. "
   ]
  },
  {
   "cell_type": "markdown",
   "metadata": {},
   "source": [
    "```python\n",
    "def insert(self, value):\n",
    "    if value < self.value:\n",
    "        if self.left: # shorthand for \"if self has a left instance variable)\n",
    "            self.left.insert(value)\n",
    "        else:\n",
    "            # one line\n",
    "    elif value > self.value:\n",
    "        if self.right:\n",
    "            # one line\n",
    "        else:\n",
    "            # one line\n",
    "```"
   ]
  },
  {
   "cell_type": "markdown",
   "metadata": {},
   "source": [
    "Make sure that all members of your group understand how your function works. If you need, generate a tree using the next cell, add `print` statements to each case, and call the function once more on the tree with some value, then observe the output to see how the element is passed down the tree.\n",
    "\n",
    "Your function shouldn't add values that are already on the tree -- our tree nodes will have unique labels.\n",
    "\n",
    "Once you finish (and add the function to your class), run the next cell to test your function. (Run it many times to see different trees.)"
   ]
  },
  {
   "cell_type": "code",
   "execution_count": null,
   "metadata": {},
   "outputs": [],
   "source": [
    "# generate a random tree\n",
    "\n",
    "import random\n",
    "\n",
    "numbers = random.sample(range(0,100), k=20)\n",
    "tree = Tree(numbers[0])\n",
    "for v in numbers[1:]:\n",
    "    tree.insert(v)\n",
    "tree.diagram()"
   ]
  },
  {
   "cell_type": "markdown",
   "metadata": {},
   "source": [
    "## §4. Membership Checking"
   ]
  },
  {
   "cell_type": "markdown",
   "metadata": {},
   "source": [
    "Add a `contains()` method to your `Tree` class. The function should accept an integer argument and return a boolean (`True/False`) indicating whether the value is contained in the tree. You can accomplish this using very similar ideas from your `insert` function. Run the code cell below to test your function."
   ]
  },
  {
   "cell_type": "code",
   "execution_count": null,
   "metadata": {},
   "outputs": [],
   "source": [
    "numbers = random.sample(range(0,100), k=20)\n",
    "tree = Tree(numbers[0])\n",
    "for v in numbers[1:]:\n",
    "    tree.insert(v)\n",
    "tree.diagram()\n",
    "\n",
    "[i for i in range(0,100) if tree.contains(i)]"
   ]
  },
  {
   "cell_type": "markdown",
   "metadata": {},
   "source": [
    "Generate several random trees as above (run the cell in §3 that generates them) and test the `contains` function with each of them by running the above cell again."
   ]
  },
  {
   "cell_type": "markdown",
   "metadata": {},
   "source": [
    "## §5. Removing the smallest value from the tree"
   ]
  },
  {
   "cell_type": "markdown",
   "metadata": {},
   "source": [
    "Add a `remove_least()` method to your class. The method should take no arguments and remove the smallest value from the tree, unless it is the root. You should not use recursion here -- the function here should use a loop instead of calling itself on a child -- so the idea is a little different.\n",
    "\n",
    "***Hint***: *in a loop, go all the way left (towards the smaller values), and keep track of the parent nodes along the way. When you get there, you will have to deal with two cases.*\n",
    "\n",
    "If the smallest value is the root, raise an informative `KeyError`. Test your method (and show your work!). "
   ]
  },
  {
   "cell_type": "markdown",
   "metadata": {},
   "source": [
    "## §6. Finding the parent of a node"
   ]
  },
  {
   "cell_type": "markdown",
   "metadata": {},
   "source": [
    "Add a `get_parent` function to your class. This time, the function should accept an integer and return a tree. The root of the tree should be the parent of the node with the matching number. **Don't make a new tree** -- just return a subtree.\n",
    "\n",
    "Note that the tree returned by this function will be a piece of the original tree (so if you change one of them, it will also change the other). In particular this means that if you insert into the smaller tree, you can mess up the correct tree ordering of the larger tree.\n",
    "\n",
    "Raise a `KeyError` if the specified value is not found on the tree. Return `None` if the value belongs to the root. Test your function, showing your work. "
   ]
  },
  {
   "cell_type": "markdown",
   "metadata": {},
   "source": [
    "## §7. The `diagram()` method"
   ]
  },
  {
   "cell_type": "markdown",
   "metadata": {},
   "source": [
    "Wow! If you've made it this far, work with your group and try to figure out how the `diagram()` method supplied at the beginning of the worksheet works. "
   ]
  }
 ],
 "metadata": {
  "kernelspec": {
   "display_name": "Python 3",
   "language": "python",
   "name": "python3"
  },
  "language_info": {
   "codemirror_mode": {
    "name": "ipython",
    "version": 3
   },
   "file_extension": ".py",
   "mimetype": "text/x-python",
   "name": "python",
   "nbconvert_exporter": "python",
   "pygments_lexer": "ipython3",
   "version": "3.8.3"
  }
 },
 "nbformat": 4,
 "nbformat_minor": 4
}
