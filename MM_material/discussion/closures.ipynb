{
 "cells": [
  {
   "cell_type": "markdown",
   "metadata": {},
   "source": [
    "# Discussion 4: Closures\n",
    "\n",
    "In the recorded lectures, we've mentioned the idea of \"functions with memory\" a few times, mostly in the context of bad examples. There is a good to write functions with memory -- using **closures.** A closure is just a function that returns another function. \n",
    "\n",
    "The reason that closures can be advantageous is that the returned (\"inner\") function has access to the variables created in the \"outer\" function. This is especially useful when these variables are mutable. Here's a simple example. "
   ]
  },
  {
   "cell_type": "code",
   "execution_count": 1,
   "metadata": {},
   "outputs": [
    {
     "data": {
      "text/plain": [
       "5"
      ]
     },
     "execution_count": 1,
     "metadata": {},
     "output_type": "execute_result"
    }
   ],
   "source": [
    "add = sum\n",
    "add([2, 3])"
   ]
  },
  {
   "cell_type": "code",
   "execution_count": 2,
   "metadata": {},
   "outputs": [],
   "source": [
    "def f():\n",
    "    L = []\n",
    "    def g():\n",
    "        L.append('a')\n",
    "        return(L)\n",
    "    \n",
    "    return(g)"
   ]
  },
  {
   "cell_type": "code",
   "execution_count": 3,
   "metadata": {},
   "outputs": [],
   "source": [
    "my_function = f()"
   ]
  },
  {
   "cell_type": "code",
   "execution_count": 4,
   "metadata": {},
   "outputs": [
    {
     "data": {
      "text/plain": [
       "['a']"
      ]
     },
     "execution_count": 4,
     "metadata": {},
     "output_type": "execute_result"
    }
   ],
   "source": [
    "my_function()"
   ]
  },
  {
   "cell_type": "code",
   "execution_count": 5,
   "metadata": {},
   "outputs": [
    {
     "ename": "NameError",
     "evalue": "name 'L' is not defined",
     "output_type": "error",
     "traceback": [
      "\u001b[0;31m---------------------------------------------------------------------------\u001b[0m",
      "\u001b[0;31mNameError\u001b[0m                                 Traceback (most recent call last)",
      "\u001b[0;32m<ipython-input-5-a9dfae9159c1>\u001b[0m in \u001b[0;36m<module>\u001b[0;34m\u001b[0m\n\u001b[0;32m----> 1\u001b[0;31m \u001b[0mL\u001b[0m\u001b[0;34m\u001b[0m\u001b[0;34m\u001b[0m\u001b[0m\n\u001b[0m",
      "\u001b[0;31mNameError\u001b[0m: name 'L' is not defined"
     ]
    }
   ],
   "source": [
    "L"
   ]
  },
  {
   "cell_type": "markdown",
   "metadata": {},
   "source": [
    "What's happening here is that `L` is available to the function `g`, but because `L` was defined inside `f`, `L` is not available as a global variable. This is super handy -- it gets around our global variables issues while still endowing our functions with memory. "
   ]
  },
  {
   "cell_type": "markdown",
   "metadata": {},
   "source": [
    "# A Prime Checker\n",
    "\n",
    "How can we tell whether a number `n` is prime? The simplest method is to see whether any number smaller than `n` (other than `1` divides `n`). However, this is not necessary -- it suffices to check all numbers smaller than $\\sqrt{n}$. (why?). This fact can lead to big computational savings when checking large primes. \n",
    "\n",
    "However, even **that** is suboptimal. Rather than checking all numbers amller than $\\sqrt{n}$, it suffices to check only *prime* numbers smaller than $\\sqrt{n}$. The [prime number theorem](https://en.wikipedia.org/wiki/Prime_number_theorem) states that there are, asymptotically (when n is very large), roughly\n",
    "\n",
    "$$\\frac{\\sqrt{n}}{\\log \\sqrt{n}}$$ \n",
    "\n",
    "primes less than $\\sqrt{n}$. Using this fact can give substantial computational savings for large $n$. \n",
    "\n",
    "Of course, we can only realize these savings *if* we already know which numbers less than $\\sqrt{n}$ are prime. \n",
    "\n",
    "**Note**: 1 is not prime. \n",
    "\n",
    "## Assignment\n",
    "\n",
    "In this assignment, you and your group will write a closure (a function returning a function) that can be used to efficiently check prime numbers. \n",
    "\n",
    "**You may assume that the integers will be scanned in order**. That is, your code should work correctly in the following case. It is not necessary to ensure that your code works when the integers are scanned out of order. \n",
    "\n",
    "```\n",
    "prime_checker = create_prime_checker() \n",
    "for i in range(10):\n",
    "    print(i, prime_checker(i, verbose = False))\n",
    "\n",
    "0 False\n",
    "1 False\n",
    "2 True\n",
    "3 True\n",
    "4 False\n",
    "5 True\n",
    "6 False\n",
    "7 True\n",
    "8 False\n",
    "9 False\n",
    "```"
   ]
  },
  {
   "cell_type": "markdown",
   "metadata": {},
   "source": [
    "Work creatively with your group to fill in functioning code below, guided by the comments. This problem can be solved by writing no more than 5 lines of code for each of the supplied comments. "
   ]
  },
  {
   "cell_type": "code",
   "execution_count": null,
   "metadata": {},
   "outputs": [],
   "source": [
    "import math\n",
    "\n",
    "def create_prime_checker():\n",
    "    \"\"\"\n",
    "    Return a function prime_checker() which takes a single argument n. \n",
    "    prime_checker() stores a list of known primes. If n is in the list of known primes, \n",
    "    then prime_checker() returns true. \n",
    "    Otherwise, prime_checker() will first check whether n is divisible by one of the known primes, returning False if so. \n",
    "    If not, prime_checker() will then check whether n is divisible by any number between the largest known prime and \n",
    "    math.sqrt(n), returning False if so. \n",
    "    If not, then n is added to the list of known primes and True is returned. \n",
    "    \"\"\"\n",
    "    \n",
    "    known_primes = # what's the right way to initialize? \n",
    "    \n",
    "    def prime_checker(n, verbose = False):\n",
    "                \n",
    "        # if verbose == True, print the list of known primes (this is primarily for your debugging)\n",
    "        \n",
    "        # check whether n is in the list of known primes, and act appropriately. \n",
    "        \n",
    "        # next, check whether any of the known primes divide n, and return False if so. \n",
    "        \n",
    "        # next, check possible factors up to and include math.sqrt(n), and return False if so. \n",
    "        \n",
    "        # If no factors found, add n to the list of known primes and return the appropriate value. \n",
    "    \n",
    "    return prime_checker"
   ]
  },
  {
   "cell_type": "markdown",
   "metadata": {},
   "source": [
    "You should be able to use your code like this: "
   ]
  },
  {
   "cell_type": "code",
   "execution_count": null,
   "metadata": {},
   "outputs": [],
   "source": [
    "prime_checker = create_prime_checker() # remember that create_prime_checker() returns a function!! \n",
    "for i in range(10):\n",
    "    print(i, prime_checker(i, verbose = False))"
   ]
  },
  {
   "cell_type": "markdown",
   "metadata": {},
   "source": [
    "Once you are confident in your function, compute the number of primes between 2 and 10,000, inclusive. "
   ]
  },
  {
   "cell_type": "code",
   "execution_count": null,
   "metadata": {},
   "outputs": [],
   "source": [
    "# primes up to 10,000\n",
    "n_primes = len([i for i in range(10000) if prime_checker(i)])\n",
    "n_primes"
   ]
  }
 ],
 "metadata": {
  "kernelspec": {
   "display_name": "Python 3",
   "language": "python",
   "name": "python3"
  },
  "language_info": {
   "codemirror_mode": {
    "name": "ipython",
    "version": 3
   },
   "file_extension": ".py",
   "mimetype": "text/x-python",
   "name": "python",
   "nbconvert_exporter": "python",
   "pygments_lexer": "ipython3",
   "version": "3.8.3"
  }
 },
 "nbformat": 4,
 "nbformat_minor": 4
}
